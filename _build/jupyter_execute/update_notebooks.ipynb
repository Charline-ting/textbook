{
 "cells": [
  {
   "cell_type": "code",
   "execution_count": 1,
   "metadata": {
    "execution": {
     "iopub.execute_input": "2020-08-08T22:18:33.655622Z",
     "iopub.status.busy": "2020-08-08T22:18:33.653813Z",
     "iopub.status.idle": "2020-08-08T22:18:33.723040Z",
     "shell.execute_reply": "2020-08-08T22:18:33.722587Z"
    }
   },
   "outputs": [],
   "source": [
    "from glob import glob\n",
    "import nbformat as nbf"
   ]
  },
  {
   "cell_type": "code",
   "execution_count": 2,
   "metadata": {
    "execution": {
     "iopub.execute_input": "2020-08-08T22:18:33.725863Z",
     "iopub.status.busy": "2020-08-08T22:18:33.725432Z",
     "iopub.status.idle": "2020-08-08T22:18:33.736808Z",
     "shell.execute_reply": "2020-08-08T22:18:33.736470Z"
    }
   },
   "outputs": [],
   "source": [
    "notebooks = glob(\"./content/**/*.ipynb\", recursive=True)"
   ]
  },
  {
   "cell_type": "code",
   "execution_count": 3,
   "metadata": {
    "execution": {
     "iopub.execute_input": "2020-08-08T22:18:33.739733Z",
     "iopub.status.busy": "2020-08-08T22:18:33.739337Z",
     "iopub.status.idle": "2020-08-08T22:18:33.742029Z",
     "shell.execute_reply": "2020-08-08T22:18:33.741607Z"
    }
   },
   "outputs": [],
   "source": [
    "kernelspec = {'display_name': 'Python 3', 'language': 'python', 'name': 'python3'}"
   ]
  },
  {
   "cell_type": "code",
   "execution_count": 4,
   "metadata": {
    "execution": {
     "iopub.execute_input": "2020-08-08T22:18:33.745032Z",
     "iopub.status.busy": "2020-08-08T22:18:33.744621Z",
     "iopub.status.idle": "2020-08-08T22:18:35.994430Z",
     "shell.execute_reply": "2020-08-08T22:18:35.994111Z"
    }
   },
   "outputs": [],
   "source": [
    "for intbk in notebooks:\n",
    "    ntbk = nbf.read(intbk, nbf.NO_CONVERT)\n",
    "    ntbk.metadata['kernelspec'] = kernelspec\n",
    "    nbf.write(ntbk, intbk)"
   ]
  },
  {
   "cell_type": "code",
   "execution_count": 6,
   "metadata": {},
   "outputs": [
    {
     "data": {
      "text/plain": [
       "{'display_name': 'Python 3', 'language': 'python', 'name': 'python3'}"
      ]
     },
     "execution_count": 6,
     "metadata": {},
     "output_type": "execute_result"
    }
   ],
   "source": []
  }
 ],
 "metadata": {
  "kernelspec": {
   "display_name": "Python 3",
   "language": "python",
   "name": "python3"
  },
  "language_info": {
   "codemirror_mode": {
    "name": "ipython",
    "version": 3
   },
   "file_extension": ".py",
   "mimetype": "text/x-python",
   "name": "python",
   "nbconvert_exporter": "python",
   "pygments_lexer": "ipython3",
   "version": "3.7.7"
  }
 },
 "nbformat": 4,
 "nbformat_minor": 4
}