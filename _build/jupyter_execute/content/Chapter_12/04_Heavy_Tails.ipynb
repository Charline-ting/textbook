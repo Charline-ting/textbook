{
 "cells": [
  {
   "cell_type": "code",
   "execution_count": 1,
   "metadata": {
    "execution": {
     "iopub.execute_input": "2020-08-09T20:29:04.295917Z",
     "iopub.status.busy": "2020-08-09T20:29:04.295014Z",
     "iopub.status.idle": "2020-08-09T20:29:05.754179Z",
     "shell.execute_reply": "2020-08-09T20:29:05.753812Z"
    },
    "tags": [
     "remove_cell"
    ]
   },
   "outputs": [],
   "source": [
    "# HIDDEN\n",
    "from datascience import *\n",
    "from prob140 import *\n",
    "import numpy as np\n",
    "import matplotlib.pyplot as plt\n",
    "plt.style.use('fivethirtyeight')\n",
    "%matplotlib inline\n",
    "import math\n",
    "from scipy import stats\n",
    "from scipy import misc\n",
    "import warnings\n",
    "warnings.filterwarnings('ignore')"
   ]
  },
  {
   "cell_type": "markdown",
   "metadata": {},
   "source": [
    "## Heavy Tails ##"
   ]
  },
  {
   "cell_type": "markdown",
   "metadata": {},
   "source": [
    "This short section shows an example of how expectations and SDs, though very useful in many situations, aren't quite adequate when distributions have long, fat tails. Here is one such distribution."
   ]
  },
  {
   "cell_type": "code",
   "execution_count": 2,
   "metadata": {
    "execution": {
     "iopub.execute_input": "2020-08-09T20:29:05.761614Z",
     "iopub.status.busy": "2020-08-09T20:29:05.761150Z",
     "iopub.status.idle": "2020-08-09T20:29:07.326084Z",
     "shell.execute_reply": "2020-08-09T20:29:07.326404Z"
    }
   },
   "outputs": [
    {
     "data": {
      "image/png": "[encoded data removed]",
      "text/plain": [
       "<Figure size 432x288 with 1 Axes>"
      ]
     },
     "metadata": {
      "filenames": {
       "image/png": "/mnt/c/Users/ryan/Documents/prob140/textbook/_build/jupyter_execute/content/Chapter_12/04_Heavy_Tails_3_0.png"
      },
      "needs_background": "light"
     },
     "output_type": "display_data"
    }
   ],
   "source": [
    "N = 1000\n",
    "n = np.arange(1, N+1, 1)\n",
    "probs = (1/n)*(1/np.sum(1/n))\n",
    "dist = Table().values(n).probabilities(probs)\n",
    "Plot(dist)\n",
    "plt.xlim(0, N/10);"
   ]
  },
  {
   "cell_type": "markdown",
   "metadata": {},
   "source": [
    "You can see that the tail stretches out quite far. If we sample independently from this population, how does the sample average behave? Averages are affected by values out in the tails. \n",
    "\n",
    "Let's simulate the distribution of the average of a random sample of size 500 from this distribution. We'll do 10,000 repetitions to try to get the empirical distribution to settle down."
   ]
  },
  {
   "cell_type": "code",
   "execution_count": 3,
   "metadata": {
    "execution": {
     "iopub.execute_input": "2020-08-09T20:29:07.329791Z",
     "iopub.status.busy": "2020-08-09T20:29:07.329413Z",
     "iopub.status.idle": "2020-08-09T20:29:08.689274Z",
     "shell.execute_reply": "2020-08-09T20:29:08.689629Z"
    }
   },
   "outputs": [
    {
     "data": {
      "image/png": "[encoded data removed]",
      "text/plain": [
       "<Figure size 432x288 with 1 Axes>"
      ]
     },
     "metadata": {
      "filenames": {
       "image/png": "/mnt/c/Users/ryan/Documents/prob140/textbook/_build/jupyter_execute/content/Chapter_12/04_Heavy_Tails_5_0.png"
      },
      "needs_background": "light"
     },
     "output_type": "display_data"
    }
   ],
   "source": [
    "means = make_array()\n",
    "for i in range(10000):\n",
    "    means = np.append(means, np.mean(dist.sample_from_dist(500)))\n",
    "Table().with_column('Sample Means', means).hist(bins=20)"
   ]
  },
  {
   "cell_type": "markdown",
   "metadata": {},
   "source": [
    "That's a lovely distribution, but take a look at where it is centered. The center is just above 130, whereas the original distribution looked as though it was petering out at about 100:"
   ]
  },
  {
   "cell_type": "code",
   "execution_count": 4,
   "metadata": {
    "execution": {
     "iopub.execute_input": "2020-08-09T20:29:08.702093Z",
     "iopub.status.busy": "2020-08-09T20:29:08.701675Z",
     "iopub.status.idle": "2020-08-09T20:29:10.291154Z",
     "shell.execute_reply": "2020-08-09T20:29:10.290831Z"
    }
   },
   "outputs": [
    {
     "data": {
      "image/png": "[encoded data removed]",
      "text/plain": [
       "<Figure size 432x288 with 1 Axes>"
      ]
     },
     "metadata": {
      "filenames": {
       "image/png": "/mnt/c/Users/ryan/Documents/prob140/textbook/_build/jupyter_execute/content/Chapter_12/04_Heavy_Tails_7_0.png"
      },
      "needs_background": "light"
     },
     "output_type": "display_data"
    }
   ],
   "source": [
    "Plot(dist)\n",
    "plt.xlim(0, N/10);"
   ]
  },
  {
   "cell_type": "markdown",
   "metadata": {},
   "source": [
    "This is where we have to remember that the original disribution actually goes out to 1000. Even though the tail is hardly visible beyond 100 on the scale of our graph, it is there and it is affecting the expectation. The expected value is about 133.6, which explains the center of the empirical distribution of the sample average. "
   ]
  },
  {
   "cell_type": "code",
   "execution_count": 5,
   "metadata": {
    "execution": {
     "iopub.execute_input": "2020-08-09T20:29:10.299431Z",
     "iopub.status.busy": "2020-08-09T20:29:10.298998Z",
     "iopub.status.idle": "2020-08-09T20:29:10.301897Z",
     "shell.execute_reply": "2020-08-09T20:29:10.301587Z"
    }
   },
   "outputs": [
    {
     "data": {
      "text/plain": [
       "133.59213049244224"
      ]
     },
     "execution_count": 5,
     "metadata": {},
     "output_type": "execute_result"
    }
   ],
   "source": [
    "dist.ev()"
   ]
  },
  {
   "cell_type": "markdown",
   "metadata": {},
   "source": [
    "It is sobering to realize that the balance point of the above histogram isn't even visible on the graph. There is enough mass far out in the tails to pull the balance point away to the right.\n",
    "\n",
    "How do we reconcile this with Chebyshev's Inequality telling us that the bulk of the probability is within a few SDs of the mean? The only way to find out is to calculate the SD of the distribution."
   ]
  },
  {
   "cell_type": "code",
   "execution_count": 6,
   "metadata": {
    "execution": {
     "iopub.execute_input": "2020-08-09T20:29:10.315816Z",
     "iopub.status.busy": "2020-08-09T20:29:10.315349Z",
     "iopub.status.idle": "2020-08-09T20:29:10.318350Z",
     "shell.execute_reply": "2020-08-09T20:29:10.317934Z"
    }
   },
   "outputs": [
    {
     "data": {
      "text/plain": [
       "221.39558257101038"
      ]
     },
     "execution_count": 6,
     "metadata": {},
     "output_type": "execute_result"
    }
   ],
   "source": [
    "dist.sd()"
   ]
  },
  {
   "cell_type": "markdown",
   "metadata": {},
   "source": [
    "And there we have it. The SD is huge, even bigger than the mean. The long tail makes the SD very large – so large that even the interval \"expected value plus or minus one SD\" is extremely wide and contains almost all the data.\n",
    "\n",
    "To analyze heavy-tailed distributions like this, the expected value and SD aren't the best quantities to use. There is a large and growing literature on what should be used instead. You might come across it in a more advanced course."
   ]
  },
  {
   "cell_type": "markdown",
   "metadata": {},
   "source": [
    "### Zipf's Law ###\n",
    "You are almost certain to come across distributions like these if you study natural language processing, or linguistics, or economics, or even the populations of cities. The example used in this section is one of the *Zipf* distributions that occurs in those fields.\n",
    "\n",
    "[Zipf's Law](https://en.wikipedia.org/wiki/Zipf's_law) is an empirically observed law that says that in large bodies of words, the frequency of a word is inversely proportional to its rank in a frequency table. That is, the frequency of the second most commonly occurring word is half the frequency of the most frequent. The frequency of the third most commonly occurring word is one-third of the frequency of the most frequent. And so on.\n",
    "\n",
    "According to Wikipedia, \"... in the Brown Corpus of American English text, the word \"the\" is the most frequently occurring word, and by itself accounts for nearly 7% of all word occurrences (69,971 out of slightly over 1 million). True to Zipf's Law, the second-place word \"of\" accounts for slightly over 3.5% of words (36,411 occurrences), followed by \"and\" (28,852). Only 135 vocabulary items are needed to account for half the Brown Corpus.\""
   ]
  },
  {
   "cell_type": "markdown",
   "metadata": {
    "collapsed": true
   },
   "source": [
    "Now take another look at how the underlying distribution in our example was defined:"
   ]
  },
  {
   "cell_type": "code",
   "execution_count": 7,
   "metadata": {
    "execution": {
     "iopub.execute_input": "2020-08-09T20:29:10.321330Z",
     "iopub.status.busy": "2020-08-09T20:29:10.320953Z",
     "iopub.status.idle": "2020-08-09T20:29:10.323296Z",
     "shell.execute_reply": "2020-08-09T20:29:10.322991Z"
    }
   },
   "outputs": [],
   "source": [
    "N = 1000\n",
    "n = np.arange(1, N+1, 1)\n",
    "probs = (1/n)*(1/np.sum(1/n))"
   ]
  },
  {
   "cell_type": "markdown",
   "metadata": {},
   "source": [
    "We are pretending that we have a corpus of $N=1000$ words arranged in rank order, with Rank 1 being awarded to the most commonly occurring word. The probabilities are inversely proportional to rank. Notice that `1/np.sum(1/n)` is just the constant of proportionality that makes the probabilities add up to 1. If you call that constant $c$, then the probabilities are:\n",
    "\n",
    "$$ \n",
    "P(X = n) = c \\cdot \\frac{1}{n}, ~~~ 1 \\le n \\le N\n",
    "$$\n",
    "\n",
    "Notice that $E(X) = cN$ and $E(X^2) = c \\cdot \\frac{N(N+1)}{2}$, so $Var(X) = (\\frac{c}{2} - c^2)N^2 + (\\frac{c}{2})N$. \n",
    "\n",
    "As $N$ gets large, $E(X)$ and $SD(X)$ both head off to infinity at rates that make elementary calculations inadequate for getting useful results. "
   ]
  }
 ],
 "metadata": {
  "anaconda-cloud": {},
  "kernelspec": {
   "display_name": "Python 3",
   "language": "python",
   "name": "python3"
  },
  "language_info": {
   "codemirror_mode": {
    "name": "ipython",
    "version": 3
   },
   "file_extension": ".py",
   "mimetype": "text/x-python",
   "name": "python",
   "nbconvert_exporter": "python",
   "pygments_lexer": "ipython3",
   "version": "3.7.7"
  }
 },
 "nbformat": 4,
 "nbformat_minor": 1
}