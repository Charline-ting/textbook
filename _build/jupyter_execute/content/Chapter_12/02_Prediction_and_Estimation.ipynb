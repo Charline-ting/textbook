{
 "cells": [
  {
   "cell_type": "code",
   "execution_count": 1,
   "metadata": {
    "execution": {
     "iopub.execute_input": "2020-10-05T20:59:06.832996Z",
     "iopub.status.busy": "2020-10-05T20:59:06.832588Z",
     "iopub.status.idle": "2020-10-05T20:59:08.274681Z",
     "shell.execute_reply": "2020-10-05T20:59:08.274343Z"
    },
    "tags": [
     "remove_cell"
    ]
   },
   "outputs": [],
   "source": [
    "# HIDDEN\n",
    "import warnings\n",
    "warnings.filterwarnings('ignore')\n",
    "from datascience import *\n",
    "from prob140 import *\n",
    "import numpy as np\n",
    "import matplotlib.pyplot as plt\n",
    "plt.style.use('fivethirtyeight')\n",
    "%matplotlib inline"
   ]
  },
  {
   "cell_type": "markdown",
   "metadata": {},
   "source": [
    "## Prediction and Estimation ##"
   ]
  },
  {
   "cell_type": "markdown",
   "metadata": {},
   "source": [
    "One way to think about the SD is in terms of errors in prediction. Suppose I am going to generate a value of the random variable $X$, and I ask you to predict the value I am going to get. What should you use as your predictor?\n",
    "\n",
    "A natural choice is $\\mu_X$, the expectation of $X$. But you could choose any number $c$. The error that you will make is $X - c$. About how big is that? For most reasonable choices of $c$, the error will sometimes be positive and sometimes negative. To find the rough size of this error, we will avoid cancellation as before, and start by calculating the *mean squared error* of the predictor $c$:\n",
    "\n",
    "$$\n",
    "MSE(c) ~ = ~ E[(X-c)^2]\n",
    "$$\n",
    "\n",
    "Notice that by definition, the variance of $X$ is the mean squared error of using $\\mu_X$ as the predictor.\n",
    "\n",
    "$$\n",
    "MSE(\\mu_X) ~ = ~ E[(X-\\mu_X)^2] ~ = ~ \\sigma_X^2\n",
    "$$"
   ]
  },
  {
   "cell_type": "code",
   "execution_count": 2,
   "metadata": {
    "execution": {
     "iopub.execute_input": "2020-10-05T20:59:08.279376Z",
     "iopub.status.busy": "2020-10-05T20:59:08.278998Z",
     "iopub.status.idle": "2020-10-05T20:59:08.387426Z",
     "shell.execute_reply": "2020-10-05T20:59:08.387026Z"
    },
    "tags": [
     "remove-input",
     "hide-output"
    ]
   },
   "outputs": [
    {
     "data": {
      "text/html": [
       "\n",
       "<iframe\n",
       "    width=\"400\"\n",
       "    height=\"300\"\n",
       "    src=\"https://www.youtube.com/embed/hnm1Ht5DiWk\"\n",
       "    frameborder=\"0\"\n",
       "    allowfullscreen\n",
       "></iframe>\n"
      ],
      "text/plain": [
       "<IPython.lib.display.YouTubeVideo at 0x7f5bbe1cb9d0>"
      ]
     },
     "execution_count": 2,
     "metadata": {},
     "output_type": "execute_result"
    }
   ],
   "source": [
    "# VIDEO: Least Squares Constant Predictor\n",
    "from IPython.display import YouTubeVideo\n",
    "\n",
    "YouTubeVideo('hnm1Ht5DiWk')"
   ]
  },
  {
   "cell_type": "markdown",
   "metadata": {},
   "source": [
    "We will now show that $\\mu_X$ is the *least squares* constant predictor, that is, it has the smallest mean squared error among all constant predictors. Since we have guessed that $\\mu_X$ is the best choice, we will organize the algebra around that value. \n",
    "\n",
    "$$\n",
    "\\begin{align*}\n",
    "MSE(c) ~ = ~ E\\big{[}(X - c)^2\\big{]} &= E\\big{[} \\big{(} (X - \\mu_X) + (\\mu_X - c) \\big{)}^2 \\big{]} \\\\\n",
    "&= E\\big{[} (X - \\mu_X)^2 \\big{]} +2(\\mu_X - c)E\\big{[} (X-\\mu_X) \\big{]} + (\\mu_X -c)^2 \\\\\n",
    "&= \\sigma_X^2 + 0 + (\\mu_X -c)^2 \\\\\n",
    "&\\ge \\sigma_X^2 \\\\\n",
    "&= MSE(\\mu_X)\n",
    "\\end{align*}\n",
    "$$\n",
    "\n",
    "with equality if and only if $c = \\mu_X$."
   ]
  },
  {
   "cell_type": "markdown",
   "metadata": {},
   "source": [
    "### The Mean as a Least Squares Predictor ###\n",
    "What we have shown is the predictor $\\mu_X$ has the smallest mean squared error among all choices $c$. That smallest mean squared error is the variance of $X$, and hence the smallest root mean squared error is the SD $\\sigma_X$.\n",
    "\n",
    "This is why a common approach to prediction is, \"My guess is the mean, and I'll be off by about an SD.\" "
   ]
  },
  {
   "cell_type": "markdown",
   "metadata": {},
   "source": [
    "```{admonition} Quick Check\n",
    "Your friend has a random dollar amount $X$ in their wallet. Suppose you know that $E(X) = 16$ dollars and $SD(X) = 3$ dollars. In all your answers below, please include units of measurement.\n",
    "\n",
    "(a) What is the least squares constant predictor of $X$?\n",
    "\n",
    "(b) What is the mean squared error of this predictor?\n",
    "\n",
    "(c) What is the root mean squared error of this predictor?\n",
    "\n",
    "```"
   ]
  },
  {
   "cell_type": "markdown",
   "metadata": {},
   "source": [
    "```{admonition} Answer\n",
    ":class: dropdown\n",
    "(a) $16$ dollars\n",
    "\n",
    "(b) $9$ squared dollars\n",
    "\n",
    "(c) $3$ dollars\n",
    "\n",
    "```"
   ]
  },
  {
   "cell_type": "markdown",
   "metadata": {
    "collapsed": true
   },
   "source": [
    "### German Tanks, Revisited ###\n",
    "\n",
    "Recall the [German tanks](http://prob140.org/textbook/content/Chapter_08/04_Additivity.html#first-unbiased-estimator-of-a-maximum-possible-value) problem in which we have a sample $X_1, X_2, \\ldots , X_n$ drawn at random without replacement from $1, 2, \\ldots , N$ for some fixed $N$, and we are trying to estimate $N$. \n",
    "\n",
    "We came up with two unbiased estimators of $N$:\n",
    "\n",
    "- An estimator based on the sample mean: $T_1 = 2\\bar{X}_n - 1$ where $\\bar{X}_n$ is the sample average $\\frac{1}{n}\\sum_{i=1}^n X_i$\n",
    "- An estimator based on the sample maximum: $T_2 = M\\cdot\\frac{n+1}{n} - 1$ where $M = \\max(X_1, X_2, \\ldots, X_n)$.\n",
    "\n",
    "Here are simulated distributions of $T_1$ and $T_2$ in the case $N = 300$ and $n = 30$, based on 5000 repetitions."
   ]
  },
  {
   "cell_type": "code",
   "execution_count": 3,
   "metadata": {
    "execution": {
     "iopub.execute_input": "2020-10-05T20:59:08.393830Z",
     "iopub.status.busy": "2020-10-05T20:59:08.393447Z",
     "iopub.status.idle": "2020-10-05T20:59:08.984174Z",
     "shell.execute_reply": "2020-10-05T20:59:08.983886Z"
    }
   },
   "outputs": [
    {
     "data": {
      "image/png": "[encoded data removed]",
      "text/plain": [
       "<Figure size 432x288 with 1 Axes>"
      ]
     },
     "metadata": {
      "filenames": {
       "image/png": "/mnt/c/Users/ryan/Documents/prob140/textbook/_build/jupyter_execute/content/Chapter_12/02_Prediction_and_Estimation_9_0.png"
      },
      "needs_background": "light"
     },
     "output_type": "display_data"
    }
   ],
   "source": [
    "def simulate_T1_T2(N, n):\n",
    "    \"\"\"Returns one pair of simulated values of T_1 and T_2\n",
    "    based on the same simple random sample\"\"\"\n",
    "    tanks = np.arange(1, N+1)\n",
    "    sample = np.random.choice(tanks, size=n, replace=False)\n",
    "    t1 = 2*np.mean(sample) - 1\n",
    "    t2 = max(sample)*(n+1)/n - 1\n",
    "    return [t1, t2]\n",
    "\n",
    "def compare_T1_T2(N, n, repetitions):\n",
    "    \"\"\"Returns a table of simulated values of T_1 and T_2, \n",
    "    with the number of rows = repetitions\n",
    "    and each row containing the two estimates based on the same simple random sample\"\"\"\n",
    "    tbl = Table(['T_1 = 2*Mean-1', 'T_2 = Augmented Max'])\n",
    "    for i in range(repetitions):\n",
    "        tbl.append(simulate_T1_T2(N, n))\n",
    "    return tbl\n",
    "\n",
    "N = 300\n",
    "n = 30\n",
    "repetitions = 5000\n",
    "comparison = compare_T1_T2(N, n, 5000)   \n",
    "comparison.hist(bins=np.arange(N/2, 3*N/2))\n",
    "plt.title('$N =$'+str(N)+', $n =$'+str(n)+' ('+str(repetitions)+' repetitions)');"
   ]
  },
  {
   "cell_type": "markdown",
   "metadata": {},
   "source": [
    "We know that both estimators are unbiased: $E(T_1) = N = E(T_2)$. But is clear from the simulation that $SD(T_1) > SD(T_2)$ and hence $T_2$ is a better estimator than $T_1$.\n",
    "\n",
    "The empirical values of the two means and standard deviations based on this simulation are calculated below."
   ]
  },
  {
   "cell_type": "code",
   "execution_count": 4,
   "metadata": {
    "execution": {
     "iopub.execute_input": "2020-10-05T20:59:08.987399Z",
     "iopub.status.busy": "2020-10-05T20:59:08.986967Z",
     "iopub.status.idle": "2020-10-05T20:59:08.989831Z",
     "shell.execute_reply": "2020-10-05T20:59:08.989443Z"
    }
   },
   "outputs": [
    {
     "data": {
      "text/plain": [
       "(300.08970666666664, 30.080856825905446)"
      ]
     },
     "execution_count": 4,
     "metadata": {},
     "output_type": "execute_result"
    }
   ],
   "source": [
    "t1 = comparison.column(0)\n",
    "np.mean(t1), np.std(t1)"
   ]
  },
  {
   "cell_type": "code",
   "execution_count": 5,
   "metadata": {
    "execution": {
     "iopub.execute_input": "2020-10-05T20:59:08.993296Z",
     "iopub.status.busy": "2020-10-05T20:59:08.992484Z",
     "iopub.status.idle": "2020-10-05T20:59:08.995763Z",
     "shell.execute_reply": "2020-10-05T20:59:08.995381Z"
    }
   },
   "outputs": [
    {
     "data": {
      "text/plain": [
       "(299.9651533333333, 9.150431060814078)"
      ]
     },
     "execution_count": 5,
     "metadata": {},
     "output_type": "execute_result"
    }
   ],
   "source": [
    "t2 = comparison.column(1)\n",
    "np.mean(t2), np.std(t2)"
   ]
  },
  {
   "cell_type": "markdown",
   "metadata": {},
   "source": [
    "These standard deviations are calculated based on empirical data given a specified value of the parameter $N = 300$ and a specified sample size $n = 30$. In the next chapter we will develop properties of the SD that will allow us to obtain algebraic expressions for $SD(T_1)$ and $SD(T_2)$ for all $N$ and $n$."
   ]
  }
 ],
 "metadata": {
  "anaconda-cloud": {},
  "celltoolbar": "Tags",
  "kernelspec": {
   "display_name": "Python 3",
   "language": "python",
   "name": "python3"
  },
  "language_info": {
   "codemirror_mode": {
    "name": "ipython",
    "version": 3
   },
   "file_extension": ".py",
   "mimetype": "text/x-python",
   "name": "python",
   "nbconvert_exporter": "python",
   "pygments_lexer": "ipython3",
   "version": "3.7.7"
  }
 },
 "nbformat": 4,
 "nbformat_minor": 1
}