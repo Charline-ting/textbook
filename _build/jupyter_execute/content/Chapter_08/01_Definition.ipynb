{
 "cells": [
  {
   "cell_type": "code",
   "execution_count": 1,
   "metadata": {
    "execution": {
     "iopub.execute_input": "2020-08-27T21:49:47.617899Z",
     "iopub.status.busy": "2020-08-27T21:49:47.616001Z",
     "iopub.status.idle": "2020-08-27T21:49:49.206372Z",
     "shell.execute_reply": "2020-08-27T21:49:49.206005Z"
    },
    "tags": [
     "remove_cell"
    ]
   },
   "outputs": [],
   "source": [
    "# HIDDEN\n",
    "from datascience import *\n",
    "from prob140 import *\n",
    "import numpy as np\n",
    "import matplotlib.pyplot as plt\n",
    "plt.style.use('fivethirtyeight')\n",
    "%matplotlib inline\n",
    "import math\n",
    "from scipy import stats"
   ]
  },
  {
   "cell_type": "markdown",
   "metadata": {},
   "source": [
    "## Definition ##"
   ]
  },
  {
   "cell_type": "markdown",
   "metadata": {},
   "source": [
    "The *expectation* of a random variable $X$, denoted $E(X)$, is the average of the possible values of $X$ weighted by their probabilities. This can be calculated in two equivalent ways.\n",
    "\n",
    "#### On the domain of $X$: ####\n",
    "\n",
    "$$\n",
    "E(X) = \\sum_{\\omega \\in \\Omega} X(\\omega)P(\\omega)\n",
    "$$\n",
    "\n",
    "#### On the range of $X$: ####\n",
    "\n",
    "$$\n",
    "E(X) = \\sum_{\\text{all }x} xP(X=x)\n",
    "$$\n",
    "\n",
    "**Technical Note:** If $X$ has finitely many possible values, the sums above are always well defined and finite. If $X$ can have countably many values (that is, values indexed by 1, 2, 3, $\\ldots$), then more care is needed to make sure that the formulas result in a well defined number. We will deal with that issue shortly; for now, assume that the sum is well defined.\n",
    "\n",
    "Assuming the sums are well defined, is straightforward to show that these two formulas give the same answer. One way to show it is to group terms in the first sum by the distinct values of $X(\\omega)$ over all the different outcomes $\\omega$.\n",
    "\n",
    "The second formula is often given as \"the\" definition of expectation, but the first can be helpful for understanding properties of expectation. In particular, it shows that if two random variables have the same distribution, then they also have the same expectation."
   ]
  },
  {
   "cell_type": "markdown",
   "metadata": {},
   "source": [
    "### Center of Gravity ###\n",
    "Suppose $X$ has the distribution given below."
   ]
  },
  {
   "cell_type": "code",
   "execution_count": 2,
   "metadata": {
    "execution": {
     "iopub.execute_input": "2020-08-27T21:49:49.210418Z",
     "iopub.status.busy": "2020-08-27T21:49:49.210022Z",
     "iopub.status.idle": "2020-08-27T21:49:49.373042Z",
     "shell.execute_reply": "2020-08-27T21:49:49.372721Z"
    }
   },
   "outputs": [
    {
     "data": {
      "image/png": "[encoded data removed]",
      "text/plain": [
       "<Figure size 432x288 with 1 Axes>"
      ]
     },
     "metadata": {
      "filenames": {
       "image/png": "/mnt/c/Users/ryan/Documents/prob140/textbook/_build/jupyter_execute/content/Chapter_08/01_Definition_4_0.png"
      },
      "needs_background": "light"
     },
     "output_type": "display_data"
    }
   ],
   "source": [
    "x = np.arange(1, 6)\n",
    "probs = make_array(0.15, 0.25, 0.3, 0.2, 0.1)\n",
    "example_dist = Table().values(x).probabilities(probs)\n",
    "Plot(example_dist)"
   ]
  },
  {
   "cell_type": "markdown",
   "metadata": {},
   "source": [
    "Then by the formula on the range of $X$, we have $E(X) = 2.85$."
   ]
  },
  {
   "cell_type": "code",
   "execution_count": 3,
   "metadata": {
    "execution": {
     "iopub.execute_input": "2020-08-27T21:49:49.376867Z",
     "iopub.status.busy": "2020-08-27T21:49:49.376433Z",
     "iopub.status.idle": "2020-08-27T21:49:49.379399Z",
     "shell.execute_reply": "2020-08-27T21:49:49.379093Z"
    }
   },
   "outputs": [
    {
     "data": {
      "text/plain": [
       "2.8499999999999996"
      ]
     },
     "execution_count": 3,
     "metadata": {},
     "output_type": "execute_result"
    }
   ],
   "source": [
    "ev_X = sum(x*probs)\n",
    "ev_X"
   ]
  },
  {
   "cell_type": "markdown",
   "metadata": {},
   "source": [
    "You can also call the `prob140` function `ev` to calculate $E(X)$:"
   ]
  },
  {
   "cell_type": "code",
   "execution_count": 4,
   "metadata": {
    "execution": {
     "iopub.execute_input": "2020-08-27T21:49:49.382853Z",
     "iopub.status.busy": "2020-08-27T21:49:49.382382Z",
     "iopub.status.idle": "2020-08-27T21:49:49.385053Z",
     "shell.execute_reply": "2020-08-27T21:49:49.385347Z"
    }
   },
   "outputs": [
    {
     "data": {
      "text/plain": [
       "2.8500000000000005"
      ]
     },
     "execution_count": 4,
     "metadata": {},
     "output_type": "execute_result"
    }
   ],
   "source": [
    "example_dist.ev()"
   ]
  },
  {
   "cell_type": "markdown",
   "metadata": {},
   "source": [
    "Expectation is often also called *expected value*, hence the name of the function and also our name `ev_X`. But notice that **the \"expected value\" need not be a possible value of the random variable**. This random variable $X$ can't be 2.85.\n",
    "\n",
    "But then what does the expected value represent? To see this, first visualize $E(X)$ using the `show_ev=True` option to `Plot`."
   ]
  },
  {
   "cell_type": "code",
   "execution_count": 5,
   "metadata": {
    "execution": {
     "iopub.execute_input": "2020-08-27T21:49:49.394701Z",
     "iopub.status.busy": "2020-08-27T21:49:49.394305Z",
     "iopub.status.idle": "2020-08-27T21:49:49.545021Z",
     "shell.execute_reply": "2020-08-27T21:49:49.545321Z"
    }
   },
   "outputs": [
    {
     "data": {
      "image/png": "[encoded data removed]",
      "text/plain": [
       "<Figure size 432x288 with 1 Axes>"
      ]
     },
     "metadata": {
      "filenames": {
       "image/png": "/mnt/c/Users/ryan/Documents/prob140/textbook/_build/jupyter_execute/content/Chapter_08/01_Definition_10_0.png"
      },
      "needs_background": "light"
     },
     "output_type": "display_data"
    }
   ],
   "source": [
    "Plot(example_dist, show_ev=True)"
   ]
  },
  {
   "cell_type": "markdown",
   "metadata": {},
   "source": [
    "If you have studied some physics, you will recognize that the formula we used for the expectation is the same as the formula for the center of gravity of a system in which weights equal to the corresponding probabilities hang from each possible value 1, 2, 3, 4, and 5. \n",
    "\n",
    "So suppose the histogram is made of cardboard or some rigid material, and imagine trying to balance it on the tip of a pencil held somewhere on the horizontal axis. You'll have to hold the pencil at 2.85 for the figure to balance.\n",
    "\n",
    "The expectation is the *center* of the distribution in this physical sense: it is the *center of gravity* or *center of mass* of the distribution."
   ]
  },
  {
   "cell_type": "markdown",
   "metadata": {},
   "source": [
    "### Long Run Average ###\n",
    "You can also think of expectation as the *long run average* value of the random variable when you generate the variable over and over again independently and under identical conditions. The `sample_from_dist` method applied to `prob140` distribution objects allows you to do just that. It samples at random with replacement from the distribution and returns an array of sampled values. The argument is the sample size.\n",
    "\n",
    "You can use the `emp_dist` method to convert the array of simulated values to a distribution object which you can then use with `Plot` and other `prob140` functions. The `show_ave=True` option of `Plot` displays the average of the simulated values. "
   ]
  },
  {
   "cell_type": "code",
   "execution_count": 6,
   "metadata": {
    "execution": {
     "iopub.execute_input": "2020-08-27T21:49:49.548620Z",
     "iopub.status.busy": "2020-08-27T21:49:49.548151Z",
     "iopub.status.idle": "2020-08-27T21:49:49.926221Z",
     "shell.execute_reply": "2020-08-27T21:49:49.926537Z"
    }
   },
   "outputs": [
    {
     "data": {
      "image/png": "[encoded data removed]",
      "text/plain": [
       "<Figure size 432x288 with 1 Axes>"
      ]
     },
     "metadata": {
      "filenames": {
       "image/png": "/mnt/c/Users/ryan/Documents/prob140/textbook/_build/jupyter_execute/content/Chapter_08/01_Definition_13_0.png"
      },
      "needs_background": "light"
     },
     "output_type": "display_data"
    }
   ],
   "source": [
    "simulated_X = example_dist.sample_from_dist(10000)\n",
    "emp_dist_X = emp_dist(simulated_X)\n",
    "Plot(emp_dist_X, show_ave=True)\n",
    "plt.title('Empirical Distribution');"
   ]
  },
  {
   "cell_type": "markdown",
   "metadata": {},
   "source": [
    "The average of the 10,000 simulated values of $X$ is very close to $E(X)$ but not exactly equal."
   ]
  },
  {
   "cell_type": "code",
   "execution_count": 7,
   "metadata": {
    "execution": {
     "iopub.execute_input": "2020-08-27T21:49:49.930023Z",
     "iopub.status.busy": "2020-08-27T21:49:49.929547Z",
     "iopub.status.idle": "2020-08-27T21:49:49.932504Z",
     "shell.execute_reply": "2020-08-27T21:49:49.932842Z"
    }
   },
   "outputs": [
    {
     "data": {
      "text/plain": [
       "2.8437"
      ]
     },
     "execution_count": 7,
     "metadata": {},
     "output_type": "execute_result"
    }
   ],
   "source": [
    "np.mean(simulated_X)"
   ]
  },
  {
   "cell_type": "markdown",
   "metadata": {},
   "source": [
    "This is because of what you can see in the empirical histogram: it looks very much like the probability histogram of $X$. About 15% of the simulated values are 1, about 20% are 2's, and so on, so the average is very close to 2.85. \n",
    "\n",
    "The similarity of the two histograms is because of the Law of Averages that you saw in Data 8 and that we will establish formally in this course."
   ]
  },
  {
   "cell_type": "markdown",
   "metadata": {},
   "source": [
    "Now that we have a few ways to think about expectation, let's see why it has such fundamental importance. We will start by directly applying the definition to calculate some expectations. In subsequent sections we will develop more powerful methods to calculate and use expectation."
   ]
  },
  {
   "cell_type": "markdown",
   "metadata": {},
   "source": [
    "### Constant ###\n",
    "This little example is worth writing out because it gets used all the time. Suppose a random variable $X$ is actually a constant $c$, that is, suppose $P(X = c) = 1$. Then the distribution of $X$ puts all its mass on the single value $c$, and $E(X) = c\\cdot 1 = c$. We just write $E(c) = c$. "
   ]
  },
  {
   "cell_type": "markdown",
   "metadata": {},
   "source": [
    "### Bernoulli and Indicators ###\n",
    "If $X$ has the Bernoulli $(p)$ distribution, then $P(X = 1) p$\n",
    "and $P(X = 0) = 1-p$. So\n",
    "\n",
    "$$\n",
    "E(X) = 0 \\cdot (1-p) ~ + ~ 1 \\cdot p ~ = ~ p\n",
    "$$\n",
    "\n",
    "As you saw earlier, zero/one valued random variables are building blocks for other variables and are called indicators.\n",
    "\n",
    "Let $A$ be any event. Then the indicator of $A$ is the random variable $I_A$ that is 1 if $A$ occurs and 0 if $A$ doesn't occur. Thus $I_A$ is has the Bernoulli $(P(A))$ distribution and \n",
    "\n",
    "$$\n",
    "E(I_A) = P(A)\n",
    "$$\n",
    "\n",
    "by our calculation above. Thus every probability is an expectation. We will use this heavily in later sections."
   ]
  },
  {
   "cell_type": "code",
   "execution_count": 8,
   "metadata": {
    "execution": {
     "iopub.execute_input": "2020-08-27T21:49:49.986369Z",
     "iopub.status.busy": "2020-08-27T21:49:49.936442Z",
     "iopub.status.idle": "2020-08-27T21:49:50.146742Z",
     "shell.execute_reply": "2020-08-27T21:49:50.146435Z"
    }
   },
   "outputs": [
    {
     "data": {
      "image/png": "[encoded data removed]",
      "text/plain": [
       "<Figure size 432x288 with 1 Axes>"
      ]
     },
     "metadata": {
      "filenames": {
       "image/png": "/mnt/c/Users/ryan/Documents/prob140/textbook/_build/jupyter_execute/content/Chapter_08/01_Definition_20_0.png"
      },
      "needs_background": "light"
     },
     "output_type": "display_data"
    }
   ],
   "source": [
    "x = [0, 1]\n",
    "qp = [0.75, 0.25]\n",
    "bern_1_3 = Table().values(x).probabilities(qp)\n",
    "Plot(bern_1_3, show_ev=True)\n",
    "plt.title('Bernoulli (0.25)');"
   ]
  },
  {
   "cell_type": "markdown",
   "metadata": {},
   "source": [
    "### Uniform on an Interval of Integers ###\n",
    "Let $a$ and $b$ be two integers such that $a < b$. If $X$ has the uniform distribution on the integers $a, a+1, a+2, \\ldots, b$, then by symmetry, $E(X)$ is half-way between $a$ and $b$. That's where the probability histogram will balance. So\n",
    "\n",
    "$$\n",
    "E(X) = \\frac{a+b}{2}\n",
    "$$\n",
    "\n",
    "For example, if $X$ has the uniform distribution on $1, 2, \\ldots , n$, then\n",
    "\n",
    "$$\n",
    "E(X) = \\frac{n+1}{2}\n",
    "$$\n",
    "\n",
    "An instance of this is if $X$ is the number of spots on one roll of a die. Then $E(X) = 3.5$.\n",
    "\n",
    "If instead $X$ is uniform on $0, 1, 2, \\ldots , n$, then\n",
    "\n",
    "$$\n",
    "E(X) = \\frac{n}{2}\n",
    "$$"
   ]
  },
  {
   "cell_type": "code",
   "execution_count": 9,
   "metadata": {
    "execution": {
     "iopub.execute_input": "2020-08-27T21:49:50.156604Z",
     "iopub.status.busy": "2020-08-27T21:49:50.156210Z",
     "iopub.status.idle": "2020-08-27T21:49:50.316847Z",
     "shell.execute_reply": "2020-08-27T21:49:50.316512Z"
    }
   },
   "outputs": [
    {
     "data": {
      "image/png": "[encoded data removed]",
      "text/plain": [
       "<Figure size 432x288 with 1 Axes>"
      ]
     },
     "metadata": {
      "filenames": {
       "image/png": "/mnt/c/Users/ryan/Documents/prob140/textbook/_build/jupyter_execute/content/Chapter_08/01_Definition_22_0.png"
      },
      "needs_background": "light"
     },
     "output_type": "display_data"
    }
   ],
   "source": [
    "x = np.arange(10)\n",
    "probs = 0.1*np.ones(10)\n",
    "unif_10 = Table().values(x).probabilities(probs)\n",
    "Plot(unif_10, show_ev=True)\n",
    "plt.title('Uniform on Integers 0, 1, 2, ..., 9');"
   ]
  },
  {
   "cell_type": "markdown",
   "metadata": {},
   "source": [
    "### Poisson ###\n",
    "Let $X$ have the Poisson $(\\mu)$ distribution. Then\n",
    "\n",
    "$$\n",
    "\\begin{align*}\n",
    "E(X) &= \\sum_{k=0}^\\infty k e^{-\\mu} \\frac{\\mu^k}{k!} \\\\ \\\\\n",
    "&= e^{-\\mu} \\mu \\sum_{k=1}^\\infty \\frac{\\mu^{k-1}}{(k-1)!} \\\\ \\\\\n",
    "&= e^{-\\mu} \\mu \\sum_{j=0}^\\infty \\frac{\\mu^j}{j!} \\\\ \\\\\n",
    "&= e^{-\\mu} \\mu e^{\\mu} \\\\ \\\\\n",
    "&= \\mu\n",
    "\\end{align*}\n",
    "$$\n",
    "\n",
    "**We now have an important new interpretation of the parameter of the Poisson distribution.** We saw earlier it was close to the mode; now we know that it is also the balance point or expectation of the distribution. The notation $\\mu$ was chosen to stand for \"mean\"."
   ]
  },
  {
   "cell_type": "code",
   "execution_count": 10,
   "metadata": {
    "execution": {
     "iopub.execute_input": "2020-08-27T21:49:50.328370Z",
     "iopub.status.busy": "2020-08-27T21:49:50.326953Z",
     "iopub.status.idle": "2020-08-27T21:49:50.495370Z",
     "shell.execute_reply": "2020-08-27T21:49:50.494977Z"
    }
   },
   "outputs": [
    {
     "data": {
      "image/png": "[encoded data removed]",
      "text/plain": [
       "<Figure size 432x288 with 1 Axes>"
      ]
     },
     "metadata": {
      "filenames": {
       "image/png": "/mnt/c/Users/ryan/Documents/prob140/textbook/_build/jupyter_execute/content/Chapter_08/01_Definition_24_0.png"
      },
      "needs_background": "light"
     },
     "output_type": "display_data"
    }
   ],
   "source": [
    "k = np.arange(15)\n",
    "poi_2_probs = stats.poisson.pmf(k, 2)\n",
    "dist_poi_2 = Table().values(k).probabilities(poi_2_probs)\n",
    "Plot(dist_poi_2, show_ev=True)\n",
    "plt.title('Poisson (2)');"
   ]
  },
  {
   "cell_type": "markdown",
   "metadata": {},
   "source": [
    "### Existence ###\n",
    "If $X$ has countably many values, then the sums used to define expectation are infinite and hence are limits of partial sums. But not all sequences of partial sums have limits, and so not all random variables have expectations. Indeed, $E(X)$ is only well defined when the sum is *absolutely convergent*:\n",
    "\n",
    "$$\n",
    "E(X) = \\sum_{\\text{all }x} xP(X=x) ~~~~ \\text{provided }\n",
    "\\sum_{\\text{all }x} |x|P(X=x) < \\infty\n",
    "$$\n",
    "\n",
    "That's a bit technical for this level of course, and you will almost never have to deal with non-existent expectations in Prob140. Just keep in mind that expectation isn't always finite or even well defined. \n",
    "\n",
    "Here is an example in which you can see that the expectation can't be finite. First notice that the sequence $1/2^n, ~n = 1, 2, 3, \\ldots $ is a probability distribution: by summing the geometric series you get 1.\n",
    "\n",
    "$$\n",
    "\\sum_{k=1}^\\infty (\\frac{1}{2^n}) ~ = ~ \\frac{1}{2} \\cdot \\frac{1}{1 - \\frac{1}{2}} ~ = ~ 1\n",
    "$$\n",
    "\n",
    "Now suppose the random variable $X$ has values $2, 4, 8, 16 \\ldots$ so that $P(X = 2^n) = 1/2^n$ for $n = 1, 2, 3, \\ldots $. Then for every possible value $x$, the product $xP(X=x) = 1$. If you try to add infinitely many 1's, the only sensible answer is infinity. "
   ]
  },
  {
   "cell_type": "markdown",
   "metadata": {
    "collapsed": true
   },
   "source": [
    "This problem with expectation happens when the distribution has \"mass drifting off to infinity\" at a rate that makes it impossible to balance the probability histogram anywhere on the horizontal axis. "
   ]
  },
  {
   "cell_type": "markdown",
   "metadata": {
    "collapsed": true
   },
   "source": [
    "### Tail Sum Formula ###\n",
    "\n",
    "To find the expectation of a non-negative integer valued random variable it is sometimes quicker to use a formula that uses only the *right hand tail* probabilities $P(X > k) = 1 - F(k)$ where $F$ is the cdf of $X$ and $k \\ge 0$.\n",
    "\n",
    "For non-negative integer valued $X$,\n",
    "\n",
    "$$\n",
    "E(X) = P(X=1) + 2P(X=2) + 3P(X=3) + \\cdots\n",
    "$$\n",
    "\n",
    "Rewrite this as\n",
    "\n",
    "$$\n",
    "\\begin{align*}\n",
    "E(X) ~ = ~ &P(X=1)\\\\\n",
    "+ ~ &P(X=2) + P(X=2)\\\\\n",
    "+ ~ &P(X=3) + P(X=3) + P(X=3)\\\\\n",
    "+ ~ &P(X=4) + P(X=4) + P(X=4) + P(X=4)\\\\\n",
    "+ ~ & ~~~~~~~~ \\vdots ~~~~~ + ~~~~~~~~ \\vdots ~~~~~ + ~~~~~~~~ \\vdots ~~~~~ + ~~~~~~~~ \\vdots ~~~~~~\n",
    "\\end{align*}\n",
    "$$\n",
    "\n",
    "Add the terms along each column on the right hand side to get the *tail sum formula* for the expectation of a non-negative integer valued random variable.\n",
    "\n",
    "$$\n",
    "E(X) = P(X > 0) + P(X > 1) + P(X > 2) + \\cdots ~ = ~ \\sum_{k=0}^\\infty P(X > k)\n",
    "$$\n",
    "\n",
    "This formula comes in handy if a random variable has tail probabilities that are easy to find and also easy to sum."
   ]
  },
  {
   "cell_type": "markdown",
   "metadata": {},
   "source": [
    "### Geometric ###\n",
    "In a sequence of i.i.d. Bernoulli $(p)$ trials, let $X$ be the number of trials till the first success. We will use the word \"till\" to mean \"up to and including\".\n",
    "\n",
    "Let $q = 1-p$. The distribution of $X$ is given by\n",
    "\n",
    "$$\n",
    "P(X = k) ~ = ~ P(k-1 \\text{ failures followed by a success}) ~ = ~ q^{k-1}p, ~~ k = 1, 2, 3, \\ldots\n",
    "$$\n",
    "\n",
    "This is called the *geometric* $(p)$ distribution on $\\{1, 2, 3, \\ldots \\}$ because the probabilities are terms in a geometric series.\n",
    "\n",
    "The right tails of $X$ are simple because for each $k \\ge 1$,\n",
    "\n",
    "$$\n",
    "P(X > k) ~ = ~ P(\\text{first } k \\text{ trials are failures}) ~ = ~ q^k\n",
    "$$\n",
    "\n",
    "The formula is also true for $k = 0$ because $P(X > 0) = 1 = q^0$.\n",
    "\n",
    "By the tail sum formula, \n",
    "\n",
    "$$\n",
    "E(X) ~ = ~ \\sum_{k=0}^\\infty q^k ~ = ~ \\frac{1}{1-q} ~ = ~ \\frac{1}{p}\n",
    "$$"
   ]
  },
  {
   "cell_type": "code",
   "execution_count": null,
   "metadata": {},
   "outputs": [],
   "source": []
  }
 ],
 "metadata": {
  "anaconda-cloud": {},
  "kernelspec": {
   "display_name": "Python 3",
   "language": "python",
   "name": "python3"
  },
  "language_info": {
   "codemirror_mode": {
    "name": "ipython",
    "version": 3
   },
   "file_extension": ".py",
   "mimetype": "text/x-python",
   "name": "python",
   "nbconvert_exporter": "python",
   "pygments_lexer": "ipython3",
   "version": "3.7.7"
  }
 },
 "nbformat": 4,
 "nbformat_minor": 1
}