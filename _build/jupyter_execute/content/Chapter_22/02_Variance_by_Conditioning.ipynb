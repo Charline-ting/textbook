{
 "cells": [
  {
   "cell_type": "code",
   "execution_count": 1,
   "metadata": {
    "collapsed": true,
    "execution": {
     "iopub.execute_input": "2020-08-13T05:02:03.031401Z",
     "iopub.status.busy": "2020-08-13T05:02:03.029552Z",
     "iopub.status.idle": "2020-08-13T05:02:04.498957Z",
     "shell.execute_reply": "2020-08-13T05:02:04.498602Z"
    },
    "tags": [
     "remove_cell"
    ]
   },
   "outputs": [],
   "source": [
    "# HIDDEN\n",
    "from datascience import *\n",
    "from prob140 import *\n",
    "import numpy as np\n",
    "import matplotlib.pyplot as plt\n",
    "plt.style.use('fivethirtyeight')\n",
    "%matplotlib inline\n",
    "from scipy import stats"
   ]
  },
  {
   "cell_type": "code",
   "execution_count": 2,
   "metadata": {
    "collapsed": true,
    "execution": {
     "iopub.execute_input": "2020-08-13T05:02:04.502481Z",
     "iopub.status.busy": "2020-08-13T05:02:04.502083Z",
     "iopub.status.idle": "2020-08-13T05:02:04.507386Z",
     "shell.execute_reply": "2020-08-13T05:02:04.507023Z"
    },
    "tags": [
     "remove_cell"
    ]
   },
   "outputs": [],
   "source": [
    "# HIDDEN\n",
    "n = 10000\n",
    "a = -2\n",
    "b = 2\n",
    "z = stats.norm.rvs(size=n)\n",
    "y = z**2 + stats.uniform.rvs(a, b-a, size=n)\n",
    "xmin = min(z)\n",
    "xmax = max(z)"
   ]
  },
  {
   "cell_type": "code",
   "execution_count": 3,
   "metadata": {
    "collapsed": true,
    "execution": {
     "iopub.execute_input": "2020-08-13T05:02:04.510770Z",
     "iopub.status.busy": "2020-08-13T05:02:04.510375Z",
     "iopub.status.idle": "2020-08-13T05:02:04.512305Z",
     "shell.execute_reply": "2020-08-13T05:02:04.512623Z"
    },
    "tags": [
     "remove_cell"
    ]
   },
   "outputs": [],
   "source": [
    "# HIDDEN\n",
    "def plot_curved_scatter():\n",
    "    plt.scatter(z, y)\n",
    "    plt.xlabel('$X$')\n",
    "    plt.ylabel('$Y$', rotation=0)\n",
    "    plt.xlim(-2, 2)\n",
    "    plt.ylim(-3, 6);"
   ]
  },
  {
   "cell_type": "markdown",
   "metadata": {},
   "source": [
    "## Variance by Conditioning ##"
   ]
  },
  {
   "cell_type": "markdown",
   "metadata": {},
   "source": [
    "Iteration allows us to find expectation by conditioning. We now have the tools to find variance by conditioning as well.\n",
    "\n",
    "Recall the notation of the previous section:\n",
    "- $X$ and $Y$ are jointly distributed random variables\n",
    "- $b(X) = E(Y \\mid X)$\n",
    "- $D_w = Y - b(X)$\n",
    "\n",
    "Define $D_Y = Y - E(Y)$. Then\n",
    "\n",
    "$$\n",
    "D_Y ~ = ~  D_w + (b(X) - E(Y)) ~ = ~ D_w + D_b\n",
    "$$\n",
    "\n",
    "where $D_b = b(X) - E(Y)$ is the deviation of the random variable $b(X)$ from its expectation $E(Y)$.\n",
    "\n",
    "In the graph below, the black line is at the level $E(Y)$, and the dark blue point is a generic point $(X, Y)$ in the scatter plot. Its distance from the black line is $D_Y$ and is equal to the sum of two lengths:\n",
    "- $D_w$, the length of the purple segment\n",
    "- $D_b$, the length of the green segment"
   ]
  },
  {
   "cell_type": "code",
   "execution_count": 4,
   "metadata": {
    "execution": {
     "iopub.execute_input": "2020-08-13T05:02:04.523661Z",
     "iopub.status.busy": "2020-08-13T05:02:04.516977Z",
     "iopub.status.idle": "2020-08-13T05:02:04.894784Z",
     "shell.execute_reply": "2020-08-13T05:02:04.894461Z"
    },
    "tags": [
     "remove_input"
    ]
   },
   "outputs": [
    {
     "data": {
      "image/png": "[encoded data removed]",
      "text/plain": [
       "<Figure size 432x288 with 1 Axes>"
      ]
     },
     "metadata": {
      "filenames": {
       "image/png": "/mnt/c/Users/ryan/Documents/prob140/textbook/_build/jupyter_execute/content/Chapter_22/02_Variance_by_Conditioning_5_0.png"
      },
      "needs_background": "light"
     },
     "output_type": "display_data"
    }
   ],
   "source": [
    "# NO CODE\n",
    "plot_curved_scatter()\n",
    "x = np.arange(xmin, xmax+0.01, 0.01)\n",
    "plt.plot([xmin, xmax], [1, 1], color='k', lw=3, label='E(Y)')\n",
    "plt.plot(x, x**2, color='gold', lw=3, label='$b(X)$')\n",
    "xstar = 1.25\n",
    "ystar = 3\n",
    "plt.plot([xstar, xstar], [ystar, xstar**2], color='purple', lw=3)\n",
    "plt.plot([xstar, xstar], [xstar**2, 1], color='lime', lw=3)\n",
    "plt.scatter(xstar, ystar, color='darkblue', s=30, zorder=3)\n",
    "plt.legend(loc=(1, 0.8))\n",
    "plt.title('$D_Y = D_w + D_b$')\n",
    "plt.xlim(-2, 2)\n",
    "plt.ylim(-3, 6);"
   ]
  },
  {
   "cell_type": "markdown",
   "metadata": {},
   "source": [
    "### Decomposition of Variance ###\n",
    "The expectation $E(Y)$ is a constant. That means $D_b = b(X) - E(Y)$ is a function of $X$ and hence is uncorrelated with $D_w$. Because $D_Y = D_w + D_b$, we have a *decomposition of variance*:\n",
    "\n",
    "$$\n",
    "Var(D_Y) ~ = ~ Var(D_w) + Var(D_b)\n",
    "$$\n",
    "\n",
    "Let's take a closer look at these three variances. Shifting a random variable by a constant doesn't affect variance. So:\n",
    "\n",
    "- $Var(D_Y) = Var(Y - E(Y)) = Var(Y)$\n",
    "- $Var(D_b) = Var(b(X) - E(Y)) = Var(b(X))$, the *variance of the conditional expectation*.\n",
    "\n",
    "Finally, because $E(D_w) = 0$,\n",
    "\n",
    "$$\n",
    "\\begin{align*}\n",
    "Var(D_w) ~ &= ~ E(D_w^2) \\\\\n",
    "&= ~ E\\big{(} (Y - b(X))^2 \\big{)} \\\\\n",
    "&= ~ E\\big{(} E\\big{(} (Y - b(X))^2 \\mid X \\big{)} \\big{)}\n",
    "\\end{align*}\n",
    "$$\n",
    "\n",
    "Because $b(X) = E(Y \\mid X)$, the random variable $E\\big{(} (Y - b(X))^2 \\mid X \\big{)}$ is a function of $X$ called the *conditional variance of $Y$ given $X$* and denoted $Var(Y \\mid X)$. Its value at $x$ is $Var(Y \\mid X=x)$, that is, the variance of the values of $Y$ in the vertical strip at $x$.\n",
    "\n",
    "So $Var(D_w) = E(Var(Y \\mid X))$ is the *expectation of the conditional variance*.\n",
    "\n",
    "Because of these observations, the variance decomposition above is more commonly written as a decomposition of the variance of $Y$:\n",
    "\n",
    "$$\n",
    "Var(Y) ~ = ~ E(Var(Y \\mid X)) + Var(E(Y \\mid X))\n",
    "$$\n",
    "\n",
    "That is, **the variance is equal to the expectation of the conditional variance plus the variance of the conditional expectation**.\n",
    "\n",
    "It makes sense that the two quantities on the right hand side are involved in the calculation of $Var(Y)$. The variability of $Y$ has two components:\n",
    "\n",
    "- the rough size of the variability within the individual vertical strips, that is, the expectation of the conditional variance\n",
    "- the variability between strips, measured by the variance of the centers of the strips.\n",
    "\n",
    "The variance decomposition show that you can just add the two terms to get $Var(Y)$.\n",
    "\n",
    "This decomposition is the basis of *analysis of variance* (ANOVA), widely used in statistics. In this course we are going to use it to find variances by conditioning."
   ]
  },
  {
   "cell_type": "code",
   "execution_count": 5,
   "metadata": {
    "collapsed": true
   },
   "outputs": [],
   "source": []
  }
 ],
 "metadata": {
  "anaconda-cloud": {},
  "kernelspec": {
   "display_name": "Python 3",
   "language": "python",
   "name": "python3"
  },
  "language_info": {
   "codemirror_mode": {
    "name": "ipython",
    "version": 3
   },
   "file_extension": ".py",
   "mimetype": "text/x-python",
   "name": "python",
   "nbconvert_exporter": "python",
   "pygments_lexer": "ipython3",
   "version": "3.7.7"
  }
 },
 "nbformat": 4,
 "nbformat_minor": 1
}