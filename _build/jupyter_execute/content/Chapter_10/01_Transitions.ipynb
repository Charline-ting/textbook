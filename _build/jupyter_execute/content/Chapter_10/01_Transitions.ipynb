{
 "cells": [
  {
   "cell_type": "code",
   "execution_count": 1,
   "metadata": {
    "collapsed": true,
    "execution": {
     "iopub.execute_input": "2020-08-27T21:50:18.004738Z",
     "iopub.status.busy": "2020-08-27T21:50:18.002845Z",
     "iopub.status.idle": "2020-08-27T21:50:19.559149Z",
     "shell.execute_reply": "2020-08-27T21:50:19.558279Z"
    },
    "tags": [
     "remove_cell"
    ]
   },
   "outputs": [],
   "source": [
    "# HIDDEN\n",
    "from datascience import *\n",
    "from prob140 import *\n",
    "import numpy as np\n",
    "import matplotlib.pyplot as plt\n",
    "plt.style.use('fivethirtyeight')\n",
    "%matplotlib inline\n",
    "import math\n",
    "from scipy import stats\n",
    "from scipy import misc"
   ]
  },
  {
   "cell_type": "markdown",
   "metadata": {},
   "source": [
    "## Transitions ##"
   ]
  },
  {
   "cell_type": "markdown",
   "metadata": {},
   "source": [
    "Let $X_0, X_1, X_2, \\ldots $ be a Markov chain with state space $S$. By the Markov property, the probability of a *trajectory* or *path* of finite length is\n",
    "\n",
    "$$\n",
    "\\begin{align*}\n",
    "& P(X_0 = i_0, X_1 = i_1, X_2 = i_2, \\ldots, X_n = i_n) \\\\\n",
    "& = ~ \n",
    "P(X_0 = i_0)P(X_1 = i_1 \\mid X_0 = i_0)P(X_2 = i_2 \\mid X_1 = i_1) \\cdots\n",
    "P(X_n = i_n \\mid X_{n-1} = i_{n-1})\n",
    "\\end{align*}\n",
    "$$\n",
    "\n",
    "The distribution of $X_0$ is called the *initial distribution* of the chain.\n",
    "\n",
    "The conditional probabilities in the product are called *transition probabilities*. For states $i$ and $j$, the conditional probability $P(X_{n+1} = j \\mid X_n = i)$ is called a *one-step transition probability at time $n$*. \n",
    "\n",
    "### Stationary Transition Probabilities ###\n",
    "\n",
    "For many chains such as the random walk, the one-step transition probabilities depend only on the states $i$ and $j$, not on the time $n$. For example, for the random walk,\n",
    "\n",
    "$$\n",
    "\\begin{equation}\n",
    "P(X_{n+1} = j \\mid X_n = i) = \n",
    " \\begin{cases} \n",
    "      \\frac{1}{2} & \\text{if } j = i-1 \\text{ or } j = i+1 \\\\\n",
    "      0 & \\text{ otherwise}\n",
    "   \\end{cases}\n",
    "\\end{equation}\n",
    "$$\n",
    "\n",
    "for every $n$. \n",
    "When one-step transition probabilites don't depend on $n$, they are called *stationary* or *time-homogenous*. All the Markov chains that we will study in this course have time-homogenous transition probabilities.\n",
    "\n",
    "For such a chain, define the *one-step transition probability*\n",
    "\n",
    "$$\n",
    "P(i, j) ~ = ~ P(X_{n+1} = j \\mid X_n = i) ~ = ~ P(X_1 = j \\mid X_0 = i)\n",
    "$$\n",
    "\n",
    "Then the probability of every path of finite length is the product of a term from the initial distribution and a sequence of one-step transition probabilities:\n",
    "\n",
    "$$\n",
    "P(X_0 = i_0, X_1 = i_1, X_2 = i_2, \\ldots, X_n = i_n)\n",
    "~ = ~ P(X_0 = i_0)P(i_0, i_1)P(i_1, i_2) \\cdots P(i_{n-1}, i_n)\n",
    "$$\n",
    "\n",
    "### One-Step Transition Matrix ###\n",
    "The one-step transition probabilities can be represented as elements of a matrix. This isn't just for compactness of notation – it leads to a powerful theory.\n",
    "\n",
    "The *one-step transition matrix* of the chain is the matrix $\\mathbb{P}$ whose $(i, j)$th element is $P(i, j) = P(X_1 = j \\mid X_0 = i)$.\n",
    "\n",
    "Often, $\\mathbb{P}$ is just called *the transition matrix* for short. Note two important properties:\n",
    "\n",
    "- $\\mathbb{P}$ is a square matrix: its rows as well as its columns are indexed by the state space.\n",
    "- Each row of $\\mathbb{P}$ is a distribution: for each state $i$, and each $n$, Row $i$ of the transition matrix is the conditional distribution of $X_{n+1}$ given that $X_n = i$. Because each of its rows adds up to 1, $\\mathbb{P}$ is called a *stochastic matrix*.\n",
    "\n",
    "Let's see what the transition matrix looks like in an example. "
   ]
  },
  {
   "cell_type": "markdown",
   "metadata": {},
   "source": [
    "### Sticky Reflecting Random Walk ###\n",
    "Often, the transition behavior of a Markov chain is easier to describe in a *transition diagram* instead of a matrix. Here is such a diagram for a chain on the states 1, 2, 3, 4, and 5. The diagram shows the one-step transition probabilities.\n",
    "- No matter at which state the chain is, it stays there with chance 0.5.\n",
    "- If the chain is at states 2 through 4, it moves to each of its two adjacent state with chance 0.25.\n",
    "- If the chain is at states 1 or 5, it moves to its adjacent state with chance 0.5.\n",
    "\n",
    "![Reflecting Lazy Walk](trans_refl.png)\n",
    "\n",
    "We say that there is *reflection* at states 1 and 5. The walk is *sticky* because of the positive chance of staying in place.\n",
    "\n",
    "Transition diagrams are great for understanding the rules by which a chain moves. For calculations, however, the transition matrix is more helpful.\n",
    "\n",
    "To start constructing the matrix, we set the array `s` to be the set of states and the transition function `refl_walk_probs` to take arguments $i$ and $j$ and return $P(i, j)$."
   ]
  },
  {
   "cell_type": "code",
   "execution_count": 2,
   "metadata": {
    "execution": {
     "iopub.execute_input": "2020-08-27T21:50:19.563767Z",
     "iopub.status.busy": "2020-08-27T21:50:19.563336Z",
     "iopub.status.idle": "2020-08-27T21:50:19.565395Z",
     "shell.execute_reply": "2020-08-27T21:50:19.565083Z"
    }
   },
   "outputs": [],
   "source": [
    "s = np.arange(1, 6)\n",
    "\n",
    "def refl_walk_probs(i, j):\n",
    "    # staying in the same state\n",
    "    if i-j == 0:\n",
    "        return 0.5\n",
    "    \n",
    "    # moving left or right\n",
    "    elif 2 <= i <= 4:\n",
    "        if abs(i-j) == 1:\n",
    "            return 0.25\n",
    "        else:\n",
    "            return 0\n",
    "        \n",
    "    # moving right from 1\n",
    "    elif i == 1:\n",
    "        if j == 2:\n",
    "            return 0.5\n",
    "        else:\n",
    "            return 0\n",
    "    \n",
    "    # moving left from 5\n",
    "    elif i == 5:\n",
    "        if j == 4:\n",
    "            return 0.5\n",
    "        else:\n",
    "            return 0"
   ]
  },
  {
   "cell_type": "markdown",
   "metadata": {},
   "source": [
    "You can use the `prob140` library to construct `MarkovChain` objects. The `from_transition_function` method takes two arguments:\n",
    "- an array of the states\n",
    "- a transition function\n",
    "\n",
    "and displays the one-step transition matrix of a `MarkovChain` object."
   ]
  },
  {
   "cell_type": "code",
   "execution_count": 3,
   "metadata": {
    "execution": {
     "iopub.execute_input": "2020-08-27T21:50:19.574180Z",
     "iopub.status.busy": "2020-08-27T21:50:19.573762Z",
     "iopub.status.idle": "2020-08-27T21:50:19.579914Z",
     "shell.execute_reply": "2020-08-27T21:50:19.579442Z"
    }
   },
   "outputs": [
    {
     "data": {
      "text/html": [
       "<div>\n",
       "<style scoped>\n",
       "    .dataframe tbody tr th:only-of-type {\n",
       "        vertical-align: middle;\n",
       "    }\n",
       "\n",
       "    .dataframe tbody tr th {\n",
       "        vertical-align: top;\n",
       "    }\n",
       "\n",
       "    .dataframe thead th {\n",
       "        text-align: right;\n",
       "    }\n",
       "</style>\n",
       "<table border=\"1\" class=\"dataframe\">\n",
       "  <thead>\n",
       "    <tr style=\"text-align: right;\">\n",
       "      <th></th>\n",
       "      <th>1</th>\n",
       "      <th>2</th>\n",
       "      <th>3</th>\n",
       "      <th>4</th>\n",
       "      <th>5</th>\n",
       "    </tr>\n",
       "  </thead>\n",
       "  <tbody>\n",
       "    <tr>\n",
       "      <th>1</th>\n",
       "      <td>0.50</td>\n",
       "      <td>0.50</td>\n",
       "      <td>0.00</td>\n",
       "      <td>0.00</td>\n",
       "      <td>0.00</td>\n",
       "    </tr>\n",
       "    <tr>\n",
       "      <th>2</th>\n",
       "      <td>0.25</td>\n",
       "      <td>0.50</td>\n",
       "      <td>0.25</td>\n",
       "      <td>0.00</td>\n",
       "      <td>0.00</td>\n",
       "    </tr>\n",
       "    <tr>\n",
       "      <th>3</th>\n",
       "      <td>0.00</td>\n",
       "      <td>0.25</td>\n",
       "      <td>0.50</td>\n",
       "      <td>0.25</td>\n",
       "      <td>0.00</td>\n",
       "    </tr>\n",
       "    <tr>\n",
       "      <th>4</th>\n",
       "      <td>0.00</td>\n",
       "      <td>0.00</td>\n",
       "      <td>0.25</td>\n",
       "      <td>0.50</td>\n",
       "      <td>0.25</td>\n",
       "    </tr>\n",
       "    <tr>\n",
       "      <th>5</th>\n",
       "      <td>0.00</td>\n",
       "      <td>0.00</td>\n",
       "      <td>0.00</td>\n",
       "      <td>0.50</td>\n",
       "      <td>0.50</td>\n",
       "    </tr>\n",
       "  </tbody>\n",
       "</table>\n",
       "</div>"
      ],
      "text/plain": [
       "      1     2     3     4     5\n",
       "1  0.50  0.50  0.00  0.00  0.00\n",
       "2  0.25  0.50  0.25  0.00  0.00\n",
       "3  0.00  0.25  0.50  0.25  0.00\n",
       "4  0.00  0.00  0.25  0.50  0.25\n",
       "5  0.00  0.00  0.00  0.50  0.50"
      ]
     },
     "execution_count": 3,
     "metadata": {},
     "output_type": "execute_result"
    }
   ],
   "source": [
    "reflecting_walk = MarkovChain.from_transition_function(s, refl_walk_probs)\n",
    "reflecting_walk"
   ]
  },
  {
   "cell_type": "markdown",
   "metadata": {},
   "source": [
    "Compare the transition matrix $\\mathbb{P}$ with the transition diagram, and confirm that they contain the same information about transition probabilities.\n",
    "\n",
    "To find the chance that the chain moves to $j$ given that it is at $i$, go to Row $i$ and pick out the probability in Column $j$.\n",
    "\n",
    "If you know the starting state, you can use $\\mathbb{P}$ to find the probability of any finite path. For example, given that the walk starts at 1, the probability that it then has the path [2, 2, 3, 4, 3] is\n",
    "\n",
    "$$\n",
    "P(1, 2)P(2, 2)P(2, 3)P(3, 4)P(4, 3) \\approx 0.4\\%\n",
    "$$"
   ]
  },
  {
   "cell_type": "code",
   "execution_count": 4,
   "metadata": {
    "execution": {
     "iopub.execute_input": "2020-08-27T21:50:19.583132Z",
     "iopub.status.busy": "2020-08-27T21:50:19.582717Z",
     "iopub.status.idle": "2020-08-27T21:50:19.585633Z",
     "shell.execute_reply": "2020-08-27T21:50:19.585201Z"
    }
   },
   "outputs": [
    {
     "data": {
      "text/plain": [
       "0.00390625"
      ]
     },
     "execution_count": 4,
     "metadata": {},
     "output_type": "execute_result"
    }
   ],
   "source": [
    "0.5 * 0.5 * 0.25 * 0.25 * 0.25"
   ]
  },
  {
   "cell_type": "markdown",
   "metadata": {},
   "source": [
    "The `MarkovChain` method `prob_of_path` saves you the trouble of doing the multiplication. It takes as its arguments the starting state and the rest of the path (in a list or array), and returns the probability of the path given the starting state."
   ]
  },
  {
   "cell_type": "code",
   "execution_count": 5,
   "metadata": {
    "execution": {
     "iopub.execute_input": "2020-08-27T21:50:19.588726Z",
     "iopub.status.busy": "2020-08-27T21:50:19.588306Z",
     "iopub.status.idle": "2020-08-27T21:50:19.590927Z",
     "shell.execute_reply": "2020-08-27T21:50:19.590496Z"
    }
   },
   "outputs": [
    {
     "data": {
      "text/plain": [
       "0.00390625"
      ]
     },
     "execution_count": 5,
     "metadata": {},
     "output_type": "execute_result"
    }
   ],
   "source": [
    "reflecting_walk.prob_of_path(1, [2, 2, 3, 4, 3])"
   ]
  },
  {
   "cell_type": "code",
   "execution_count": 6,
   "metadata": {
    "execution": {
     "iopub.execute_input": "2020-08-27T21:50:19.594449Z",
     "iopub.status.busy": "2020-08-27T21:50:19.594022Z",
     "iopub.status.idle": "2020-08-27T21:50:19.596995Z",
     "shell.execute_reply": "2020-08-27T21:50:19.596611Z"
    }
   },
   "outputs": [
    {
     "data": {
      "text/plain": [
       "0.0"
      ]
     },
     "execution_count": 6,
     "metadata": {},
     "output_type": "execute_result"
    }
   ],
   "source": [
    "reflecting_walk.prob_of_path(1, [2, 2, 3, 4, 3, 5])"
   ]
  },
  {
   "cell_type": "markdown",
   "metadata": {},
   "source": [
    "You can simulate paths of the chain using the `simulate_path` method. It takes two arguments: the starting state and the number of steps of the path. By default it returns an array consisting of the sequence of states in the path. The optional argument `plot_path=True` plots the simulated path. Run the cells below a few times and see how the output changes."
   ]
  },
  {
   "cell_type": "code",
   "execution_count": 7,
   "metadata": {
    "execution": {
     "iopub.execute_input": "2020-08-27T21:50:19.600431Z",
     "iopub.status.busy": "2020-08-27T21:50:19.600029Z",
     "iopub.status.idle": "2020-08-27T21:50:19.602888Z",
     "shell.execute_reply": "2020-08-27T21:50:19.602473Z"
    }
   },
   "outputs": [
    {
     "data": {
      "text/plain": [
       "array([1, 1, 1, 2, 2, 2, 2, 1])"
      ]
     },
     "execution_count": 7,
     "metadata": {},
     "output_type": "execute_result"
    }
   ],
   "source": [
    "reflecting_walk.simulate_path(1, 7)"
   ]
  },
  {
   "cell_type": "code",
   "execution_count": 8,
   "metadata": {
    "execution": {
     "iopub.execute_input": "2020-08-27T21:50:19.606194Z",
     "iopub.status.busy": "2020-08-27T21:50:19.605773Z",
     "iopub.status.idle": "2020-08-27T21:50:19.763661Z",
     "shell.execute_reply": "2020-08-27T21:50:19.763316Z"
    }
   },
   "outputs": [
    {
     "data": {
      "image/png": "[encoded data removed]",
      "text/plain": [
       "<Figure size 432x288 with 1 Axes>"
      ]
     },
     "metadata": {
      "filenames": {
       "image/png": "/mnt/c/Users/ryan/Documents/prob140/textbook/_build/jupyter_execute/content/Chapter_10/01_Transitions_14_0.png"
      },
      "needs_background": "light"
     },
     "output_type": "display_data"
    }
   ],
   "source": [
    "reflecting_walk.simulate_path(1, 10, plot_path=True)"
   ]
  },
  {
   "cell_type": "markdown",
   "metadata": {},
   "source": [
    "### $n$-Step Transition Matrix ###\n",
    "For states $i$ and $j$, the chance of getting from $i$ to $j$ in $n$ steps is called the $n$-step transition probability from $i$ to $j$. Formally, the $n$-step transition probability is\n",
    "\n",
    "$$\n",
    "P_n(i, j) ~ = ~ P(X_n = j \\mid X_0 = i)\n",
    "$$\n",
    "\n",
    "In this notation, the one-step transition probability $P(i, j)$ can also be written as $P_1(i, j)$.\n",
    "\n",
    "The $n$-step transition probability $P_n(i, j)$ can be represented as the $(i, j)$th element of a matrix called the $n$-step transition matrix. For each state $i$, Row $i$ of the $n$-step transition matrix contains the distribution of $X_n$ given that the chain starts at $i$.\n",
    "\n",
    "The `MarkovChain` method `transition_matrix` takes $n$ as its argument and displays the $n$-step transition matrix. Here is the 2-step transition matrix of the reflecting walk defined earlier in this section."
   ]
  },
  {
   "cell_type": "code",
   "execution_count": 9,
   "metadata": {
    "execution": {
     "iopub.execute_input": "2020-08-27T21:50:19.770459Z",
     "iopub.status.busy": "2020-08-27T21:50:19.770035Z",
     "iopub.status.idle": "2020-08-27T21:50:19.773123Z",
     "shell.execute_reply": "2020-08-27T21:50:19.772802Z"
    }
   },
   "outputs": [
    {
     "data": {
      "text/html": [
       "<div>\n",
       "<style scoped>\n",
       "    .dataframe tbody tr th:only-of-type {\n",
       "        vertical-align: middle;\n",
       "    }\n",
       "\n",
       "    .dataframe tbody tr th {\n",
       "        vertical-align: top;\n",
       "    }\n",
       "\n",
       "    .dataframe thead th {\n",
       "        text-align: right;\n",
       "    }\n",
       "</style>\n",
       "<table border=\"1\" class=\"dataframe\">\n",
       "  <thead>\n",
       "    <tr style=\"text-align: right;\">\n",
       "      <th></th>\n",
       "      <th>1</th>\n",
       "      <th>2</th>\n",
       "      <th>3</th>\n",
       "      <th>4</th>\n",
       "      <th>5</th>\n",
       "    </tr>\n",
       "  </thead>\n",
       "  <tbody>\n",
       "    <tr>\n",
       "      <th>1</th>\n",
       "      <td>0.3750</td>\n",
       "      <td>0.5000</td>\n",
       "      <td>0.125</td>\n",
       "      <td>0.0000</td>\n",
       "      <td>0.0000</td>\n",
       "    </tr>\n",
       "    <tr>\n",
       "      <th>2</th>\n",
       "      <td>0.2500</td>\n",
       "      <td>0.4375</td>\n",
       "      <td>0.250</td>\n",
       "      <td>0.0625</td>\n",
       "      <td>0.0000</td>\n",
       "    </tr>\n",
       "    <tr>\n",
       "      <th>3</th>\n",
       "      <td>0.0625</td>\n",
       "      <td>0.2500</td>\n",
       "      <td>0.375</td>\n",
       "      <td>0.2500</td>\n",
       "      <td>0.0625</td>\n",
       "    </tr>\n",
       "    <tr>\n",
       "      <th>4</th>\n",
       "      <td>0.0000</td>\n",
       "      <td>0.0625</td>\n",
       "      <td>0.250</td>\n",
       "      <td>0.4375</td>\n",
       "      <td>0.2500</td>\n",
       "    </tr>\n",
       "    <tr>\n",
       "      <th>5</th>\n",
       "      <td>0.0000</td>\n",
       "      <td>0.0000</td>\n",
       "      <td>0.125</td>\n",
       "      <td>0.5000</td>\n",
       "      <td>0.3750</td>\n",
       "    </tr>\n",
       "  </tbody>\n",
       "</table>\n",
       "</div>"
      ],
      "text/plain": [
       "        1       2      3       4       5\n",
       "1  0.3750  0.5000  0.125  0.0000  0.0000\n",
       "2  0.2500  0.4375  0.250  0.0625  0.0000\n",
       "3  0.0625  0.2500  0.375  0.2500  0.0625\n",
       "4  0.0000  0.0625  0.250  0.4375  0.2500\n",
       "5  0.0000  0.0000  0.125  0.5000  0.3750"
      ]
     },
     "execution_count": 9,
     "metadata": {},
     "output_type": "execute_result"
    }
   ],
   "source": [
    "reflecting_walk.transition_matrix(2)"
   ]
  },
  {
   "cell_type": "markdown",
   "metadata": {},
   "source": [
    "You can calculate the individual entries easily by hand. For example, the $(1, 1)$ entry is the chance of going from state 1 to state 1 in 2 steps. There are two paths that make this happen:\n",
    "- [1, 1, 1]\n",
    "- [1, 2, 1]\n",
    "\n",
    "Given that 1 is the starting state, the total chance of the two paths is $(0.5 \\times 0.5) + (0.5 \\times 0.25) = 0.375$."
   ]
  },
  {
   "cell_type": "markdown",
   "metadata": {},
   "source": [
    "Because of the Markov property, the one-step transition probabilities are all you need to find the 2-step transition probabilities. \n",
    "\n",
    "In general, we can find $P_2(i, j)$ by conditioning on where the chain was at time 1.\n",
    "\n",
    "$$\n",
    "\\begin{align*}\n",
    "P_2(i, j) ~ &= ~ P(X_2 = j \\mid X_0 = i) \\\\\n",
    "&= ~ \\sum_k P(X_1 = k, X_2 = j \\mid X_0 = i) \\\\\n",
    "&= ~ \\sum_k P(X_1 = k \\mid X_0 = i)P(X_2 = j \\mid X_1 = k) \\\\\n",
    "&= ~ \\sum_k P(i, k)P(k, j)\n",
    "\\end{align*}\n",
    "$$\n",
    "\n",
    "That's the $(i, j)$th element of the matrix product $\\mathbb{P} \\times \\mathbb{P} = \\mathbb{P}^2$. Thus the 2-step transition matrix of the chain is $\\mathbb{P}^2$.\n",
    "\n",
    "By induction, you can show that the $n$-step transition matrix of the chain is $\\mathbb{P}^n$.\n",
    "\n",
    "Here is a display of the 5-step transition matrix of the reflecting walk."
   ]
  },
  {
   "cell_type": "code",
   "execution_count": 10,
   "metadata": {
    "execution": {
     "iopub.execute_input": "2020-08-27T21:50:19.779954Z",
     "iopub.status.busy": "2020-08-27T21:50:19.779525Z",
     "iopub.status.idle": "2020-08-27T21:50:19.782670Z",
     "shell.execute_reply": "2020-08-27T21:50:19.782342Z"
    }
   },
   "outputs": [
    {
     "data": {
      "text/html": [
       "<div>\n",
       "<style scoped>\n",
       "    .dataframe tbody tr th:only-of-type {\n",
       "        vertical-align: middle;\n",
       "    }\n",
       "\n",
       "    .dataframe tbody tr th {\n",
       "        vertical-align: top;\n",
       "    }\n",
       "\n",
       "    .dataframe thead th {\n",
       "        text-align: right;\n",
       "    }\n",
       "</style>\n",
       "<table border=\"1\" class=\"dataframe\">\n",
       "  <thead>\n",
       "    <tr style=\"text-align: right;\">\n",
       "      <th></th>\n",
       "      <th>1</th>\n",
       "      <th>2</th>\n",
       "      <th>3</th>\n",
       "      <th>4</th>\n",
       "      <th>5</th>\n",
       "    </tr>\n",
       "  </thead>\n",
       "  <tbody>\n",
       "    <tr>\n",
       "      <th>1</th>\n",
       "      <td>0.246094</td>\n",
       "      <td>0.410156</td>\n",
       "      <td>0.234375</td>\n",
       "      <td>0.089844</td>\n",
       "      <td>0.019531</td>\n",
       "    </tr>\n",
       "    <tr>\n",
       "      <th>2</th>\n",
       "      <td>0.205078</td>\n",
       "      <td>0.363281</td>\n",
       "      <td>0.250000</td>\n",
       "      <td>0.136719</td>\n",
       "      <td>0.044922</td>\n",
       "    </tr>\n",
       "    <tr>\n",
       "      <th>3</th>\n",
       "      <td>0.117188</td>\n",
       "      <td>0.250000</td>\n",
       "      <td>0.265625</td>\n",
       "      <td>0.250000</td>\n",
       "      <td>0.117188</td>\n",
       "    </tr>\n",
       "    <tr>\n",
       "      <th>4</th>\n",
       "      <td>0.044922</td>\n",
       "      <td>0.136719</td>\n",
       "      <td>0.250000</td>\n",
       "      <td>0.363281</td>\n",
       "      <td>0.205078</td>\n",
       "    </tr>\n",
       "    <tr>\n",
       "      <th>5</th>\n",
       "      <td>0.019531</td>\n",
       "      <td>0.089844</td>\n",
       "      <td>0.234375</td>\n",
       "      <td>0.410156</td>\n",
       "      <td>0.246094</td>\n",
       "    </tr>\n",
       "  </tbody>\n",
       "</table>\n",
       "</div>"
      ],
      "text/plain": [
       "          1         2         3         4         5\n",
       "1  0.246094  0.410156  0.234375  0.089844  0.019531\n",
       "2  0.205078  0.363281  0.250000  0.136719  0.044922\n",
       "3  0.117188  0.250000  0.265625  0.250000  0.117188\n",
       "4  0.044922  0.136719  0.250000  0.363281  0.205078\n",
       "5  0.019531  0.089844  0.234375  0.410156  0.246094"
      ]
     },
     "execution_count": 10,
     "metadata": {},
     "output_type": "execute_result"
    }
   ],
   "source": [
    "reflecting_walk.transition_matrix(5)"
   ]
  },
  {
   "cell_type": "markdown",
   "metadata": {},
   "source": [
    "This is a display, but to work with the matrix we have to represent it in a form that Python recognizes as a matrix. The method `get_transition_matrix` does this for us. It take the number of steps $n$ as its argument and returns the $n$-step transition matrix as a NumPy matrix.\n",
    "\n",
    "For the reflecting walk, we will start by extracting $\\mathbb{P}$ as the matrix `refl_walk_P`."
   ]
  },
  {
   "cell_type": "code",
   "execution_count": 11,
   "metadata": {
    "execution": {
     "iopub.execute_input": "2020-08-27T21:50:19.786019Z",
     "iopub.status.busy": "2020-08-27T21:50:19.785580Z",
     "iopub.status.idle": "2020-08-27T21:50:19.788113Z",
     "shell.execute_reply": "2020-08-27T21:50:19.788469Z"
    }
   },
   "outputs": [
    {
     "data": {
      "text/plain": [
       "array([[0.5 , 0.5 , 0.  , 0.  , 0.  ],\n",
       "       [0.25, 0.5 , 0.25, 0.  , 0.  ],\n",
       "       [0.  , 0.25, 0.5 , 0.25, 0.  ],\n",
       "       [0.  , 0.  , 0.25, 0.5 , 0.25],\n",
       "       [0.  , 0.  , 0.  , 0.5 , 0.5 ]])"
      ]
     },
     "execution_count": 11,
     "metadata": {},
     "output_type": "execute_result"
    }
   ],
   "source": [
    "refl_walk_P = reflecting_walk.get_transition_matrix(1)\n",
    "refl_walk_P"
   ]
  },
  {
   "cell_type": "markdown",
   "metadata": {},
   "source": [
    "Let's check that the 5-step transition matrix displayed earlier is the same as $\\mathbb{P}^5$. You can use `np.linalg.matrix_power` to raise a matrix to a non-negative integer power. The first argument is the matrix, the second is the power."
   ]
  },
  {
   "cell_type": "code",
   "execution_count": 12,
   "metadata": {
    "execution": {
     "iopub.execute_input": "2020-08-27T21:50:19.791843Z",
     "iopub.status.busy": "2020-08-27T21:50:19.791427Z",
     "iopub.status.idle": "2020-08-27T21:50:19.793886Z",
     "shell.execute_reply": "2020-08-27T21:50:19.794241Z"
    }
   },
   "outputs": [
    {
     "data": {
      "text/plain": [
       "array([[0.24609375, 0.41015625, 0.234375  , 0.08984375, 0.01953125],\n",
       "       [0.20507812, 0.36328125, 0.25      , 0.13671875, 0.04492188],\n",
       "       [0.1171875 , 0.25      , 0.265625  , 0.25      , 0.1171875 ],\n",
       "       [0.04492188, 0.13671875, 0.25      , 0.36328125, 0.20507812],\n",
       "       [0.01953125, 0.08984375, 0.234375  , 0.41015625, 0.24609375]])"
      ]
     },
     "execution_count": 12,
     "metadata": {},
     "output_type": "execute_result"
    }
   ],
   "source": [
    "np.linalg.matrix_power(refl_walk_P, 5)"
   ]
  },
  {
   "cell_type": "markdown",
   "metadata": {},
   "source": [
    "This is indeed the same as the matrix displayed by `transition_matrix`, though it is harder to read.\n",
    "\n",
    "When we want to use $\\mathbb{P}$ in computations, we will use this matrix representation. For displays, `transition_matrix` is better."
   ]
  },
  {
   "cell_type": "markdown",
   "metadata": {},
   "source": [
    "### The Long Run ###\n",
    "\n",
    "To understand the long run behavior of the chain, let $n$ be large and let's examine the distribution of $X_n$ for each value of the starting state. That's contained in the $n$-step transition matrix $\\mathbb{P}^n$. \n",
    "\n",
    "Here is the display of $\\mathbb{P}^n$ for the reflecting walk, for $n = 25, 50$, and $100$."
   ]
  },
  {
   "cell_type": "code",
   "execution_count": 13,
   "metadata": {
    "execution": {
     "iopub.execute_input": "2020-08-27T21:50:19.801241Z",
     "iopub.status.busy": "2020-08-27T21:50:19.800804Z",
     "iopub.status.idle": "2020-08-27T21:50:19.803835Z",
     "shell.execute_reply": "2020-08-27T21:50:19.803411Z"
    }
   },
   "outputs": [
    {
     "data": {
      "text/html": [
       "<div>\n",
       "<style scoped>\n",
       "    .dataframe tbody tr th:only-of-type {\n",
       "        vertical-align: middle;\n",
       "    }\n",
       "\n",
       "    .dataframe tbody tr th {\n",
       "        vertical-align: top;\n",
       "    }\n",
       "\n",
       "    .dataframe thead th {\n",
       "        text-align: right;\n",
       "    }\n",
       "</style>\n",
       "<table border=\"1\" class=\"dataframe\">\n",
       "  <thead>\n",
       "    <tr style=\"text-align: right;\">\n",
       "      <th></th>\n",
       "      <th>1</th>\n",
       "      <th>2</th>\n",
       "      <th>3</th>\n",
       "      <th>4</th>\n",
       "      <th>5</th>\n",
       "    </tr>\n",
       "  </thead>\n",
       "  <tbody>\n",
       "    <tr>\n",
       "      <th>1</th>\n",
       "      <td>0.129772</td>\n",
       "      <td>0.256749</td>\n",
       "      <td>0.25</td>\n",
       "      <td>0.243251</td>\n",
       "      <td>0.120228</td>\n",
       "    </tr>\n",
       "    <tr>\n",
       "      <th>2</th>\n",
       "      <td>0.128374</td>\n",
       "      <td>0.254772</td>\n",
       "      <td>0.25</td>\n",
       "      <td>0.245228</td>\n",
       "      <td>0.121626</td>\n",
       "    </tr>\n",
       "    <tr>\n",
       "      <th>3</th>\n",
       "      <td>0.125000</td>\n",
       "      <td>0.250000</td>\n",
       "      <td>0.25</td>\n",
       "      <td>0.250000</td>\n",
       "      <td>0.125000</td>\n",
       "    </tr>\n",
       "    <tr>\n",
       "      <th>4</th>\n",
       "      <td>0.121626</td>\n",
       "      <td>0.245228</td>\n",
       "      <td>0.25</td>\n",
       "      <td>0.254772</td>\n",
       "      <td>0.128374</td>\n",
       "    </tr>\n",
       "    <tr>\n",
       "      <th>5</th>\n",
       "      <td>0.120228</td>\n",
       "      <td>0.243251</td>\n",
       "      <td>0.25</td>\n",
       "      <td>0.256749</td>\n",
       "      <td>0.129772</td>\n",
       "    </tr>\n",
       "  </tbody>\n",
       "</table>\n",
       "</div>"
      ],
      "text/plain": [
       "          1         2     3         4         5\n",
       "1  0.129772  0.256749  0.25  0.243251  0.120228\n",
       "2  0.128374  0.254772  0.25  0.245228  0.121626\n",
       "3  0.125000  0.250000  0.25  0.250000  0.125000\n",
       "4  0.121626  0.245228  0.25  0.254772  0.128374\n",
       "5  0.120228  0.243251  0.25  0.256749  0.129772"
      ]
     },
     "execution_count": 13,
     "metadata": {},
     "output_type": "execute_result"
    }
   ],
   "source": [
    "reflecting_walk.transition_matrix(25)"
   ]
  },
  {
   "cell_type": "code",
   "execution_count": 14,
   "metadata": {
    "execution": {
     "iopub.execute_input": "2020-08-27T21:50:19.810792Z",
     "iopub.status.busy": "2020-08-27T21:50:19.810383Z",
     "iopub.status.idle": "2020-08-27T21:50:19.813492Z",
     "shell.execute_reply": "2020-08-27T21:50:19.813182Z"
    }
   },
   "outputs": [
    {
     "data": {
      "text/html": [
       "<div>\n",
       "<style scoped>\n",
       "    .dataframe tbody tr th:only-of-type {\n",
       "        vertical-align: middle;\n",
       "    }\n",
       "\n",
       "    .dataframe tbody tr th {\n",
       "        vertical-align: top;\n",
       "    }\n",
       "\n",
       "    .dataframe thead th {\n",
       "        text-align: right;\n",
       "    }\n",
       "</style>\n",
       "<table border=\"1\" class=\"dataframe\">\n",
       "  <thead>\n",
       "    <tr style=\"text-align: right;\">\n",
       "      <th></th>\n",
       "      <th>1</th>\n",
       "      <th>2</th>\n",
       "      <th>3</th>\n",
       "      <th>4</th>\n",
       "      <th>5</th>\n",
       "    </tr>\n",
       "  </thead>\n",
       "  <tbody>\n",
       "    <tr>\n",
       "      <th>1</th>\n",
       "      <td>0.125091</td>\n",
       "      <td>0.250129</td>\n",
       "      <td>0.25</td>\n",
       "      <td>0.249871</td>\n",
       "      <td>0.124909</td>\n",
       "    </tr>\n",
       "    <tr>\n",
       "      <th>2</th>\n",
       "      <td>0.125064</td>\n",
       "      <td>0.250091</td>\n",
       "      <td>0.25</td>\n",
       "      <td>0.249909</td>\n",
       "      <td>0.124936</td>\n",
       "    </tr>\n",
       "    <tr>\n",
       "      <th>3</th>\n",
       "      <td>0.125000</td>\n",
       "      <td>0.250000</td>\n",
       "      <td>0.25</td>\n",
       "      <td>0.250000</td>\n",
       "      <td>0.125000</td>\n",
       "    </tr>\n",
       "    <tr>\n",
       "      <th>4</th>\n",
       "      <td>0.124936</td>\n",
       "      <td>0.249909</td>\n",
       "      <td>0.25</td>\n",
       "      <td>0.250091</td>\n",
       "      <td>0.125064</td>\n",
       "    </tr>\n",
       "    <tr>\n",
       "      <th>5</th>\n",
       "      <td>0.124909</td>\n",
       "      <td>0.249871</td>\n",
       "      <td>0.25</td>\n",
       "      <td>0.250129</td>\n",
       "      <td>0.125091</td>\n",
       "    </tr>\n",
       "  </tbody>\n",
       "</table>\n",
       "</div>"
      ],
      "text/plain": [
       "          1         2     3         4         5\n",
       "1  0.125091  0.250129  0.25  0.249871  0.124909\n",
       "2  0.125064  0.250091  0.25  0.249909  0.124936\n",
       "3  0.125000  0.250000  0.25  0.250000  0.125000\n",
       "4  0.124936  0.249909  0.25  0.250091  0.125064\n",
       "5  0.124909  0.249871  0.25  0.250129  0.125091"
      ]
     },
     "execution_count": 14,
     "metadata": {},
     "output_type": "execute_result"
    }
   ],
   "source": [
    "reflecting_walk.transition_matrix(50)"
   ]
  },
  {
   "cell_type": "code",
   "execution_count": 15,
   "metadata": {
    "execution": {
     "iopub.execute_input": "2020-08-27T21:50:19.820247Z",
     "iopub.status.busy": "2020-08-27T21:50:19.819823Z",
     "iopub.status.idle": "2020-08-27T21:50:19.822861Z",
     "shell.execute_reply": "2020-08-27T21:50:19.822537Z"
    }
   },
   "outputs": [
    {
     "data": {
      "text/html": [
       "<div>\n",
       "<style scoped>\n",
       "    .dataframe tbody tr th:only-of-type {\n",
       "        vertical-align: middle;\n",
       "    }\n",
       "\n",
       "    .dataframe tbody tr th {\n",
       "        vertical-align: top;\n",
       "    }\n",
       "\n",
       "    .dataframe thead th {\n",
       "        text-align: right;\n",
       "    }\n",
       "</style>\n",
       "<table border=\"1\" class=\"dataframe\">\n",
       "  <thead>\n",
       "    <tr style=\"text-align: right;\">\n",
       "      <th></th>\n",
       "      <th>1</th>\n",
       "      <th>2</th>\n",
       "      <th>3</th>\n",
       "      <th>4</th>\n",
       "      <th>5</th>\n",
       "    </tr>\n",
       "  </thead>\n",
       "  <tbody>\n",
       "    <tr>\n",
       "      <th>1</th>\n",
       "      <td>0.125</td>\n",
       "      <td>0.25</td>\n",
       "      <td>0.25</td>\n",
       "      <td>0.25</td>\n",
       "      <td>0.125</td>\n",
       "    </tr>\n",
       "    <tr>\n",
       "      <th>2</th>\n",
       "      <td>0.125</td>\n",
       "      <td>0.25</td>\n",
       "      <td>0.25</td>\n",
       "      <td>0.25</td>\n",
       "      <td>0.125</td>\n",
       "    </tr>\n",
       "    <tr>\n",
       "      <th>3</th>\n",
       "      <td>0.125</td>\n",
       "      <td>0.25</td>\n",
       "      <td>0.25</td>\n",
       "      <td>0.25</td>\n",
       "      <td>0.125</td>\n",
       "    </tr>\n",
       "    <tr>\n",
       "      <th>4</th>\n",
       "      <td>0.125</td>\n",
       "      <td>0.25</td>\n",
       "      <td>0.25</td>\n",
       "      <td>0.25</td>\n",
       "      <td>0.125</td>\n",
       "    </tr>\n",
       "    <tr>\n",
       "      <th>5</th>\n",
       "      <td>0.125</td>\n",
       "      <td>0.25</td>\n",
       "      <td>0.25</td>\n",
       "      <td>0.25</td>\n",
       "      <td>0.125</td>\n",
       "    </tr>\n",
       "  </tbody>\n",
       "</table>\n",
       "</div>"
      ],
      "text/plain": [
       "       1     2     3     4      5\n",
       "1  0.125  0.25  0.25  0.25  0.125\n",
       "2  0.125  0.25  0.25  0.25  0.125\n",
       "3  0.125  0.25  0.25  0.25  0.125\n",
       "4  0.125  0.25  0.25  0.25  0.125\n",
       "5  0.125  0.25  0.25  0.25  0.125"
      ]
     },
     "execution_count": 15,
     "metadata": {},
     "output_type": "execute_result"
    }
   ],
   "source": [
    "reflecting_walk.transition_matrix(100)"
   ]
  },
  {
   "cell_type": "markdown",
   "metadata": {},
   "source": [
    "The rows of $\\mathbb{P}^{100}$ are all the same! That means that for the reflecting walk, the distribution at time 100 doesn't depend on the starting state. *The chain has forgotten where it started.*\n",
    "\n",
    "You can increase $n$ and see that the $n$-step transition matrix stays the same. By time 100, this chain has *reached stationarity*.\n",
    "\n",
    "Stationarity is a remarkable property of many Markov chains, and is the main topic of this chapter."
   ]
  },
  {
   "cell_type": "code",
   "execution_count": 16,
   "metadata": {
    "collapsed": true
   },
   "outputs": [],
   "source": []
  }
 ],
 "metadata": {
  "anaconda-cloud": {},
  "kernelspec": {
   "display_name": "Python 3",
   "language": "python",
   "name": "python3"
  },
  "language_info": {
   "codemirror_mode": {
    "name": "ipython",
    "version": 3
   },
   "file_extension": ".py",
   "mimetype": "text/x-python",
   "name": "python",
   "nbconvert_exporter": "python",
   "pygments_lexer": "ipython3",
   "version": "3.7.7"
  }
 },
 "nbformat": 4,
 "nbformat_minor": 1
}