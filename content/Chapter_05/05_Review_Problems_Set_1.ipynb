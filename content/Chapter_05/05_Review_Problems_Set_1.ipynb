{
 "cells": [
  {
   "cell_type": "markdown",
   "metadata": {},
   "source": [
    "# Review Problems: Set 1 "
   ]
  },
  {
   "cell_type": "markdown",
   "metadata": {},
   "source": [
    "These problems can be solved using the main ideas of Chapters 1 through 5. It is divided into two parts: The Basics, and Additional Practice. The first part will remind you of the fundamental concepts and some typical calculations. The rest are for you to further develop your problem solving skills and your fluency with the notation and ideas."
   ]
  },
  {
   "cell_type": "markdown",
   "metadata": {},
   "source": [
    "## The Basics"
   ]
  },
  {
   "cell_type": "markdown",
   "metadata": {},
   "source": [
    "**1.** A procedure for estimating a parameter is based on random sampling and has a 95% chance of producing a good estimate. Suppose I run this procedure n times such that the results of all the different runs have no effect on each other. What is the chance that at least one of the  𝑛  estimates is not good?\n",
    "\n"
   ]
  },
  {
   "cell_type": "markdown",
   "metadata": {},
   "source": [
    "**2.** A die is rolled 8 times. Say whether each of the following statements is\n",
    "true or false. If you say it is false, provide the correct chance.\n",
    "\n",
    "a.  The chance that all 8 rolls show the face with four spots is\n",
    "    $\\frac{1}{6}^8$.\n",
    "\n",
    "b.  The chance that all 8 rolls show the same face is $\\frac{1}{6}^8$.\n",
    "\n"
   ]
  },
  {
   "cell_type": "markdown",
   "metadata": {},
   "source": [
    "**3.** Box A contains 1 black and 3 white marbles, and box B contains 2 black and 4 white marbles. A box is selected at random, then a marble is drawn at random from the selected box. Given that the marble is black, find the probability that Box A was chosen.\n",
    "\n"
   ]
  },
  {
   "cell_type": "markdown",
   "metadata": {},
   "source": [
    "**4.** There are 30 students enrolled in a lab. Find the chance that at least\n",
    "one student has the same birthday as the instructor’s, assuming that the\n",
    "instructor’s birthday is a fixed day and every student’s birthday is\n",
    "equally likely to be any of 365 days of the year regardless of everyone\n",
    "else’s birthday.\n",
    "\n",
    "\n"
   ]
  },
  {
   "cell_type": "markdown",
   "metadata": {},
   "source": [
    "**5.** A die is rolled six times. Find the chance that all six faces appear.\n",
    "\n"
   ]
  },
  {
   "cell_type": "markdown",
   "metadata": {},
   "source": [
    "**6.** A bag contains $m$ M&M’s, of which $g$ are green, $r$ red, and $b$\n",
    "brown. There are no other colors, so $m=g+r+b$. Assume $m\\geq10$. I pick\n",
    "$10$ M&M’s at random without replacement.\n",
    "\n",
    "(a) What is the chance that the tenth M&M I pick is green?\n",
    "\n",
    "(b) What is the chance that second M&M I pick is red and the tenth is\n",
    "green?\n",
    "\n",
    "\n"
   ]
  },
  {
   "cell_type": "markdown",
   "metadata": {},
   "source": [
    "**7.** A coin that lands heads with chance 1/1000 is tossed 2500 times. Find\n",
    "the chance that all the tosses show tails. Find an approximation to this\n",
    "chance in terms of e.\n",
    "\n"
   ]
  },
  {
   "cell_type": "markdown",
   "metadata": {},
   "source": [
    "**8.** A population consists of 20 people, of whom 8 are women and 12 are men.\n",
    "A simple random sample of 5 people will be drawn from the population.\n",
    "Which of the following is the chance that the sample contains exactly 3\n",
    "women? Why?\n",
    "\n",
    "(i) $$\\frac{\\binom{8}{3}}{\\binom{20}{5}}$$ (ii)\n",
    "$$\\frac{\\binom{8}{3} \\binom{12}{2}}{\\binom{20}{5}}$$\n",
    "\n"
   ]
  },
  {
   "cell_type": "markdown",
   "metadata": {},
   "source": [
    "**9.** A standard deck consists of 52 cards. There are 13 cards in each of four\n",
    "suits. Cards are dealt one by one at random without replacement from the\n",
    "deck. Let X be the number of cards dealt till the first time any suit\n",
    "appears more than once. For example, if the sequence of suits is Clubs,\n",
    "Diamonds, Hearts, Diamonds then $X=4$. Find the distribution of $X$.\n",
    "\n"
   ]
  },
  {
   "cell_type": "markdown",
   "metadata": {},
   "source": [
    "**10.** In a box of numbered tickets, 20% of the tickets are numbered 0, 30% are\n",
    "numbered 1, and 50% are numbered 2. Two tickets are drawn from the box\n",
    "at random with replacement. Let $M$ be the maximum and $S$ the sum of\n",
    "the two numbers drawn. (a) Find the joint distribution of $M$ and $S$.\n",
    "(b) Find the conditional distribution of $S$ given $M=1$.\n",
    "\n",
    "\n"
   ]
  },
  {
   "cell_type": "markdown",
   "metadata": {},
   "source": [
    "**11.** Two draws are made at random from a box containing four tickets numbered\n",
    "1, 2, 2, and 3. Let $X_1$ be the number on the first ticket drawn and\n",
    "$X_2$ the number on the second. In each part below, say whether the\n",
    "statement is true or false and justify your reasoning.\n",
    "\n",
    "(a) If the draws are made with replacement, then $X_1$ and $X_2$ are\n",
    "independent.\n",
    "\n",
    "(b) If the draws are made without replacement, then $X_1$ and $X_2$ are\n",
    "independent.\n",
    "\n",
    "(c) If the draws are made with replacement, then $X_1$ and $X_2$ are\n",
    "have the same distribution.\n",
    "\n",
    "(d) If the draws are made without replacement, then $X_1$ and $X_2$ have\n",
    "the same distribution.\n",
    "\n"
   ]
  },
  {
   "cell_type": "markdown",
   "metadata": {},
   "source": [
    "## Additional Practice "
   ]
  },
  {
   "cell_type": "markdown",
   "metadata": {},
   "source": [
    "**12.** A monkey hits the keys of a typewriter at random, picking each of the 26\n",
    "letters of the English alphabet uniformly each time regardless of what\n",
    "it has picked at all other times.\n",
    "\n",
    "a.  What is the chance that the first six letters are ORANGE, in that\n",
    "    order?\n",
    "\n",
    "b.  What is the chance that the first six letters can form the word\n",
    "    ORANGE, by rearrangement if necessary?\n",
    "    \n"
   ]
  },
  {
   "cell_type": "markdown",
   "metadata": {},
   "source": [
    "**13.** A roulette wheel has 38 pockets. Of these, 18 are red, 18 black, and 2\n",
    "green. The wheel is spun 20 times. Assume that on each spin, each pocket\n",
    "is equally likely to appear; and assume that the spins are independent\n",
    "of each other.\\\n",
    "Find the probability that all three colors appear.\n",
    "\n"
   ]
  },
  {
   "cell_type": "markdown",
   "metadata": {},
   "source": [
    "**14.** A deck consists of 52 cards. A poker hand is 5 cards dealt at random\n",
    "without replacement.\n",
    "\n",
    "(a) How many 5-card poker hands are there?\n",
    "\n",
    "(b) I play poker two times. What is the chance I get the same hand both\n",
    "times?\n",
    "\n"
   ]
  },
  {
   "cell_type": "markdown",
   "metadata": {},
   "source": [
    "**15.** A population consists of 10 children, 15 women, and 20 men. I sample 5\n",
    "people at random without replacement. In the sample, let $K$ be the\n",
    "number of children, $W$ the number of women, and $M$ the number of men.\n",
    "\n",
    "a.  Find the joint distribution of $K$ and $W$.\n",
    "\n",
    "b.  Find the distribution of $W$.\n",
    "\n",
    "c.  Find the conditional distribution of $W$ given that $K=2$.\n",
    "\n",
    "\n"
   ]
  },
  {
   "cell_type": "markdown",
   "metadata": {},
   "source": [
    "**16.** There are three boxes, each with two drawers. Box 1 has a gold coin in\n",
    "each drawer and box 2 has a silver coin in each drawer. Box 3 has a\n",
    "silver coin in one drawer and a gold coin in the other. One box is\n",
    "chosen at random, and then a drawer is chosen at random from the box.\n",
    "Find the probability that box 1 is chosen, given that the chosen drawer\n",
    "yields a gold coin.\n",
    "\n"
   ]
  },
  {
   "cell_type": "markdown",
   "metadata": {},
   "source": [
    "**17.** Let $X$ be the minimum of $n$ integers drawn at random with replacement\n",
    "from the set $1,2,3,…,N$.\n",
    "\n",
    "(a) For each $k$ in the range $1$ through $N$, find $P(X\\geq k)$.\n",
    "\n",
    "(b) For each $k$ in the range $1$ through $N$, use Part (a) to find\n",
    "$P(X=k)$.\n",
    "\n"
   ]
  },
  {
   "cell_type": "markdown",
   "metadata": {},
   "source": [
    "**18.** A hat contains n coins, f of which are fair, and b of which are biased\n",
    "to land heads with probability 2/3. A coin is drawn at random from the\n",
    "hat and tossed twice. The first time it lands heads, and the second time\n",
    "it lands tails. Given this information, what is the probability that it\n",
    "is a fair coin?\n",
    "\n"
   ]
  },
  {
   "cell_type": "markdown",
   "metadata": {},
   "source": [
    "**19.** A mail room has n empty mail slots, for some fixed positive integer n.\n",
    "The slots are labeled 1 through n. I have 2n letters. For each letter, I\n",
    "pick a mail slot uniformly at random and put the letter in it. Assume\n",
    "that my choices for the 2n letters are independent of each other.\n",
    "\n",
    "(a) Find the chance that Slot 1 is empty after I have deposited all 2n\n",
    "letters.\n",
    "\n",
    "(b) Assuming that n is very large, find an exponential approximation for\n",
    "the probability in Part (a).\n",
    "\n"
   ]
  },
  {
   "cell_type": "markdown",
   "metadata": {},
   "source": [
    "**20.** A population has three classes of individuals, in the proportions 0.6,\n",
    "0.3, and 0.1. If you sample n individuals at random with replacement,\n",
    "what is the chance that all three classes appear in the sample?\n",
    "\n"
   ]
  },
  {
   "cell_type": "markdown",
   "metadata": {},
   "source": [
    "**21.** A deck of five cards contains two aces and three queens. The five cards\n",
    "are shuffled and dealt one by one. This problem is about the number of\n",
    "cards dealt till the aces appear. For example, if the order of the cards\n",
    "dealt was QAQQA, then the number of cards dealt until the first ace is\n",
    "$2$, and until the second ace is $5$.\n",
    "\n",
    "(a) Draw a table that displays the distribution of the number of cards\n",
    "    dealt until the first ace.\n",
    "\n",
    "(b) Draw a table that displays the distribution of the number of cards\n",
    "    dealt until the second ace.\n",
    "\n",
    "(c) Explain why the probabilities in the second table are just those in\n",
    "    the first in a different order. \\[Hint: think about dealing off the\n",
    "    bottom of the deck!\\]\n",
    "\n"
   ]
  },
  {
   "cell_type": "markdown",
   "metadata": {},
   "source": [
    "**22.** Cards are dealt from a well-shuffled standard deck until the first heart\n",
    "appears. Let D be the number of cards dealt.\n",
    "\n",
    "(a) Find $P(D=5)$\n",
    "\n",
    "(b) Find $P(D\\leq5)$\n",
    "\n",
    "(c) Find $P(D=3\\vert D\\leq5)$\n",
    "\n",
    "\n"
   ]
  },
  {
   "cell_type": "markdown",
   "metadata": {},
   "source": [
    "**23.** In a raffle with 100 tickets, 10 people buy 10 tickets each. Three\n",
    "winning tickets are drawn at random from this pool of 100 tickets. Let\n",
    "$W$ be the number of people with at least one winning ticket. Find:\n",
    "\n",
    "a.  $P(W>1)$\n",
    "\n",
    "b.  $P(W=3)$\n",
    "\n"
   ]
  },
  {
   "cell_type": "markdown",
   "metadata": {},
   "source": [
    "**24.** Consider a 5 card hand dealt from a standard card deck. Assume that all\n",
    "$\\binom{52}{5}$hands are equally likely. Find the probability of being\n",
    "dealt:\n",
    "\n",
    "(a) four of a kind (ranks a,a,a,a,b)\n",
    "\n",
    "(b) one pair (ranks a,a,b,c,d)\n",
    "\n",
    "\n"
   ]
  },
  {
   "cell_type": "markdown",
   "metadata": {},
   "source": [
    "**25.** Independent random variables $R$ and $S$ have possible values $0, 1, 2, \\ldots, N$ for an integer $N > 3$. For $0 \\le k \\le N$ let $r_k = P(R = k)$ and let $s_k = P(S = k)$.\n",
    "\n",
    "Write expressions for the following probabilities in terms of $r_0, r_1, \\ldots, r_N$ and $s_1, s_2, \\ldots, s_N$.\n",
    "\n",
    "(a) $P(S = R+3)$\n",
    "\n",
    "(b) $P(S > R+3)$\n",
    "\n",
    "(c) $P(\\max(R, S) \\le n)$ for $0 \\le n \\le N$\n",
    "\n",
    "(d) $P(\\min(R, S) \\le n)$ for $0 \\le n \\le N$\n",
    "\n"
   ]
  },
  {
   "cell_type": "markdown",
   "metadata": {},
   "source": [
    "**26.** Seven dice are rolled. Write an expression for P(three of one face and\n",
    "four of another).\n",
    "\n"
   ]
  },
  {
   "cell_type": "markdown",
   "metadata": {},
   "source": [
    "**27.** In a hand of 13 cards drawn randomly from a pack of 52, find the chance\n",
    "that at most one of the following ranks appears: Jack, Queen, King, Ace.\n",
    "\n"
   ]
  },
  {
   "cell_type": "markdown",
   "metadata": {},
   "source": [
    "**28.** Let $U_1$ and $U_2$ be independent, each uniformly distributed on\n",
    "$1,2,…,n$. Let $S=U_1+U_2$.\n",
    "\n",
    "(a) Find $P(U_1=U_2)$\n",
    "\n",
    "(b) Use Part (a) and symmetry to find $P(U_1<U_2)$ and $P(U_1>U_2)$.\n",
    "\n",
    "(c) Find the distribution of $S$\n",
    "\n"
   ]
  },
  {
   "cell_type": "markdown",
   "metadata": {},
   "source": [
    "**29.** The Statistics Department used to have a “birthday cake” tradition: once\n",
    "a month, there would be a cake to celebrate the birthdays of all\n",
    "department members whose birthdays were in that month. Suppose this\n",
    "tradition continues and suppose the department has n members. Assume\n",
    "that each member’s birthday is equally likely to be one of the 12 months\n",
    "of the year, independently of all others.\n",
    "\n",
    "Consider one calendar year (January through December), starting in\n",
    "January.\n",
    "\n",
    "(a) What is the probability that no birthday cake will be needed after\n",
    "September?\n",
    "\n",
    "(b) What is the probability that there will be birthday cake in\n",
    "September but not after that?\n",
    "\n"
   ]
  },
  {
   "cell_type": "markdown",
   "metadata": {},
   "source": [
    "**30.** A standard deck of 52 cards contains 4 kings. Cards are drawn at random\n",
    "without replacement till there are none left in the deck. Find the\n",
    "chance that the last king appears on the 40th draw.\n",
    "\n"
   ]
  },
  {
   "cell_type": "markdown",
   "metadata": {},
   "source": [
    "**31.** There are 100 men and 100 women who have agreed to participate in a\n",
    "randomized controlled experiment. The researchers are going to pick 100\n",
    "participants at random without replacement to form the treatment group.\n",
    "Write an expression for the chance that the treatment group contains at\n",
    "least 45 people of each of the two genders.\n",
    "\n"
   ]
  },
  {
   "cell_type": "markdown",
   "metadata": {},
   "source": [
    "**32.** There are n GSIs and m different slots for office hours. Assume\n",
    "$n\\geq m$. Suppose each GSI selects a slot uniformly at random,\n",
    "independently of all the other GSIs. What is the chance there is an unselected slot?\n",
    "\n"
   ]
  },
  {
   "cell_type": "markdown",
   "metadata": {},
   "source": [
    "**33.** Polya’s urn scheme is a model for contagion and is used in many\n",
    "different contexts. At the start, the urn has w white balls and b blue\n",
    "balls. Every minute, one ball is drawn at random from the urn and then\n",
    "replaced in the urn along with d additional balls of its color. Let\n",
    "$B_n$ be the event that the ball drawn at the nth minute is blue. Let’s\n",
    "define the 0th minute to be the start, so that $P(B_1)=\\frac{b}{w+b}$.\n",
    "\n",
    "(a) Find $P(B_2)$. Make sure you simplify the answer as much as\n",
    "possible; you will see why.\n",
    "\n",
    "(b) Guess a formula for $P(B_n)$ and prove it by induction.\n",
    "\n"
   ]
  },
  {
   "cell_type": "markdown",
   "metadata": {},
   "source": [
    "**34.** Assume as usual that if events $A$ and $B$ in a probability space are mutually exclusive, then $P(A \\cup B) = P(A) + P(B)$. Show by the method of induction that \n",
    "\n",
    "$$\n",
    "P(\\bigcup_{i=1}^n A_i) ~ = ~ \\sum_{i=1}^n P(A_i) ~~~~~ \\mbox{if } A_1, A_2, \\ldots, A_n \\mbox{ are mutually exclusive}\n",
    "$$\n",
    "\n"
   ]
  },
  {
   "cell_type": "markdown",
   "metadata": {},
   "source": [
    "**35.** The multiplication rule says that $P(A_1A_2)=P(A_1)P(A_2|A_1)$. Use\n",
    "induction to show that for events $A_1,A_2,\\ldots,A_n,$\n",
    "\n",
    "$$P(A_1,A_2,\\ldots,A_n) = P(A_1)P(A_2|A_1)P(A_3|A_1A_2)\\cdots P(A_n|A_1A_2\\ldots,A_{n-1})$$\n",
    "\n"
   ]
  },
  {
   "cell_type": "markdown",
   "metadata": {},
   "source": [
    "**36.** Eight rooks are placed at positions sampled randomly without replacement\n",
    "on an 8x8 chessboard. What is the probability that none of them attacks\n",
    "any of the others? (Two rooks attack each other if they are in the same\n",
    "row or in the same column.)\n",
    "\n"
   ]
  },
  {
   "cell_type": "code",
   "execution_count": null,
   "metadata": {},
   "outputs": [],
   "source": []
  }
 ],
 "metadata": {
  "kernelspec": {
   "display_name": "Python 3",
   "language": "python",
   "name": "python3"
  },
  "language_info": {
   "codemirror_mode": {
    "name": "ipython",
    "version": 3
   },
   "file_extension": ".py",
   "mimetype": "text/x-python",
   "name": "python",
   "nbconvert_exporter": "python",
   "pygments_lexer": "ipython3",
   "version": "3.6.0"
  }
 },
 "nbformat": 4,
 "nbformat_minor": 2
}
