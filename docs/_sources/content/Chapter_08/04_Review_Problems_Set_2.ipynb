{
 "cells": [
  {
   "cell_type": "markdown",
   "metadata": {},
   "source": [
    "## Review Problems: Set 2 ##"
   ]
  },
  {
   "cell_type": "markdown",
   "metadata": {},
   "source": [
    "These problems can be solved using the main ideas of Chapters 6 through 8. The material in those chapters of course relies on all the previous chapters.\n",
    "\n",
    "The set of exercises is divided into two parts: The Basics, and Additional Practice. The first part will remind you of the fundamental concepts and some typical calculations. The rest are for you to further develop your problem solving skills and your fluency with the notation and ideas."
   ]
  },
  {
   "cell_type": "markdown",
   "metadata": {},
   "source": [
    "### The Basics ##"
   ]
  },
  {
   "cell_type": "markdown",
   "metadata": {},
   "source": [
    "**1.** A coin is tossed 12 times. Find the chance that\n",
    "\n",
    "\\(a) there are six heads\n",
    "\n",
    "\\(b) there are more heads than tails (use the result of Part (a))\n",
    "\n",
    "\\(c) there are more than four tails\n",
    "\n",
    "\\(d) one of the faces appears twice as many times as the other\n",
    "\n"
   ]
  },
  {
   "cell_type": "markdown",
   "metadata": {},
   "source": [
    "**2.** A bridge hand is a simple random sample of 13 cards from a standard deck\n",
    "of 52 cards. The **face cards** are the Jacks, Queens, and Kings; there\n",
    "are 12 face cards in all. Let $X$ be the number of face cards in a\n",
    "bridge hand.\n",
    "\n",
    "(a) Fill in the blank with the name of a distribution along with the\n",
    "    appropriate parameters:\n",
    "    \n",
    "$X$ has the $\\underline{~~~~~~~~~~~~~~~~~}$ distribution.\n",
    "\n",
    "(b) Find $P(X > 5)$.\n",
    "\n",
    "(c) Find $E(X)$.\n",
    "\n"
   ]
  },
  {
   "cell_type": "markdown",
   "metadata": {},
   "source": [
    "**3.** Each time it is run, a random number generator produces each of the 100 pairs of digits 00 through 99 with equal probability, independently of all other times. Let $X$ be the number of times it produces 00 in 100 runs. \n",
    "\n",
    "Fill in the blanks with the names of distributions along with the appropriate parameters:\n",
    "\n",
    "The distribution of $X$ is exactly $$\\underline{~~~~~~~~~~~~~~~~~}$$ and approximately $$\\underline{~~~~~~~~~~~~~~~~~}$$.\n",
    "\n"
   ]
  },
  {
   "cell_type": "markdown",
   "metadata": {},
   "source": [
    "**4.** Two radioactive substances emit $\\alpha$-particles independently of each\n",
    "other. A counter records a Poisson $(5.41)$ number of particles from one\n",
    "substance and a Poisson $(3.87)$ number of particles from the other.\n",
    "Find the chance that the counter records at most four particles.\n",
    "\n"
   ]
  },
  {
   "cell_type": "markdown",
   "metadata": {},
   "source": [
    "**5.** If you bet on “red” at roulette, your chance of winning is 18/38.\n",
    "Successive bets are independent of each other. Suppose you keep betting\n",
    "on red and stop when you have won a total of six bets.\n",
    "\n",
    "\\(a) What is the chance that you place exactly 10 bets?\n",
    "\n",
    "\\(b) What is the chance that you place more than 10 bets?\n",
    "\n"
   ]
  },
  {
   "cell_type": "markdown",
   "metadata": {},
   "source": [
    "**6.** Let $X$ have the distribution given in the table below.\n",
    "\n",
    "| value | -2  | -1  | 0   | 1   |\n",
    "|------:|:---:|:---:|:---:|:---:|\n",
    "|**probability**| 1/8 | 1/2 | 1/4 | 1/8|\n",
    "\n",
    "Find \n",
    "\n",
    "(a) $E(X)$\n",
    "\n",
    "(b) $E(\\vert X \\vert )$\n",
    "\n",
    "(c) $E(\\min(X, -1))$\n",
    "\n",
    "(d) $E(X-1)$\n",
    "\n",
    "(e) $E((X-1)^2)$\n",
    "\n"
   ]
  },
  {
   "cell_type": "markdown",
   "metadata": {},
   "source": [
    "**7.** A student is taking a True/False test in which there are 30 questions.\n",
    "For each correct answer, the student will get 2 points. For each wrong\n",
    "answer, the student will lose 1 point. If the student leaves a question\n",
    "unanswered, the student will get 0 points for that question. The student\n",
    "answers all of the questions by rolling a die. If the die shows 1 or 2\n",
    "spots, the student doesn’t answer the question. If it shows 3 or 4\n",
    "spots, the student chooses False. If it shows 5 or 6 spots, the student\n",
    "chooses True. Find the student’s expected score on the test.\n",
    "\n"
   ]
  },
  {
   "cell_type": "markdown",
   "metadata": {},
   "source": [
    "**8.** Each move in the game Monopoly is based on the total number of spots\n",
    "showing on two rolls of a die. Let $X$ be the number of times I see a\n",
    "total of four spots in my next 10 moves in Monopoly. Find $P(X =2)$.\n",
    "\n"
   ]
  },
  {
   "cell_type": "markdown",
   "metadata": {},
   "source": [
    "**9.** A die is rolled 10 times. Find the chance that the face that has six\n",
    "spots does not appear and every other face appears two times.\n",
    "\n"
   ]
  },
  {
   "cell_type": "markdown",
   "metadata": {},
   "source": [
    "**10.** Let $p \\in (0, 1)$ and let $X$ be the number of spots showing on a\n",
    "flattened die that shows its six faces according to the following\n",
    "chances:\n",
    "\n",
    "- $P(X = 1) = P(X = 6)$\n",
    "\n",
    "- $P(X = 2) = P(X = 3) = P(X = 4) = P(X = 5)$\n",
    "\n",
    "- $P(X = 1 \\text{ or } 6) = p$\n",
    "\n",
    "\\(a) Find $E(X)$.\n",
    "\n",
    "\\(b) Find $E(\\vert X - 3.5 \\vert)$. Explain algebraically and also by an\n",
    "intuitive argument why the answer is an increasing function of $p$.\n",
    "\n"
   ]
  },
  {
   "cell_type": "markdown",
   "metadata": {},
   "source": [
    "### Additional Practice ###"
   ]
  },
  {
   "cell_type": "markdown",
   "metadata": {},
   "source": [
    "**11.** In the first hour that a bank opens, the customers who enter are of three kinds: those who only require teller service, those who only want to use the ATM, and those who only require special services (neither the tellers nor the ATM). Assume that the numbers of customers of the three kinds are independent of each other and also that:\n",
    "\n",
    "- the number that only require teller service has the Poisson (6) distribution,\n",
    "- the number that only want to use the ATM has the Poisson (2) distribution, and\n",
    "- the number that only require special services has the Poisson (1) distribution.\n",
    "\n",
    "Suppose you observe the bank in the first hour that it opens. In each part below, find the chance of the event described.\n",
    "\n",
    "**a)** 12 customers enter the bank\n",
    "\n",
    "**b)** more than 12 customers enter the bank\n",
    "\n",
    "**c)** customers do enter but none requires special services\n",
    "\n"
   ]
  },
  {
   "cell_type": "markdown",
   "metadata": {},
   "source": [
    "**12.** If you bet a dollar on a “split” at roulette, you have a 2/38 chance of\n",
    "winning. If you win the bet, your net gain is \\$17 . If you lose the\n",
    "bet, you lose your dollar.\\\n",
    "Suppose you make 100 bets. Find the chance that you come out ahead, that\n",
    "is, the chance that you end up with more money than you had at the\n",
    "start.\n",
    "\n"
   ]
  },
  {
   "cell_type": "markdown",
   "metadata": {},
   "source": [
    "**13.** Let $X_1, X_2, \\ldots, X_n$ be i.i.d. Poisson $(\\lambda)$ random\n",
    "variables.\n",
    "\n",
    "1.  Find the distribution of the sample sum\n",
    "    $S_n = X_1 + X_2 + \\cdots + X_n$.\n",
    "\n",
    "2.  Let $A_n = S_n/n$ be the sample average. For a non-negative integer\n",
    "    $k$, find $P(A_n \\le k)$.\n",
    "\n"
   ]
  },
  {
   "cell_type": "markdown",
   "metadata": {},
   "source": [
    "**14.** A courtyard is paved with 100 identical tiles. In an instant of rain, the number of raindrops on each tile has the Poisson (10) distribution independently of all other tiles.\n",
    "\n",
    "Find the chance that more than 90 tiles have more than 5 raindrops on them.\n",
    "\n"
   ]
  },
  {
   "cell_type": "markdown",
   "metadata": {},
   "source": [
    "**15.** Dibya and Jason are playing tennis. The game consists of a sequence of\n",
    "sets. The first player to win $s$ sets wins the match. Suppose the\n",
    "probability that Jason wins a set is $p$ (where $0.5 < p < 1$),\n",
    "independent of the result of any other set. What is the probability that\n",
    "Jason wins the match?\n",
    "\n"
   ]
  },
  {
   "cell_type": "markdown",
   "metadata": {},
   "source": [
    "**16.** Let $X$ have the $Poisson(\\mu)$ distribution. Find\n",
    "\n",
    "\\(a) E(X+1)\n",
    "\n",
    "\\(b) E(1/(X+1))\n",
    "\n",
    "\\[First read the Poisson portions of Sections 8.1 and 8.3.\\]\n",
    "\n"
   ]
  },
  {
   "cell_type": "markdown",
   "metadata": {},
   "source": [
    "**17.** A test for a disease produces a correct result with chance 0.99. Suppose\n",
    "the test is run on 300 patients.\n",
    "\n",
    "1.  What is the chance that for at least 295 patients the result is\n",
    "    correct?\n",
    "\n",
    "2.  Justify a Poisson approximation for the chance in (a), and find the\n",
    "    value of the approximation.\n",
    "\n"
   ]
  },
  {
   "cell_type": "markdown",
   "metadata": {},
   "source": [
    "**18.** Roll a fair $n$-sided die $m$ times. Find the expected number of\n",
    "distinct faces seen.\n",
    "\n"
   ]
  },
  {
   "cell_type": "markdown",
   "metadata": {},
   "source": [
    "**19.** Seven dice are rolled. Write down unsimplified expressions for the\n",
    "probabilities of each of the following events:\n",
    "\n",
    "(a) exactly two sixes\n",
    "\n",
    "(b) two of one kind and five of another\n",
    "\n",
    "(c) two fours, two fives, and three sixes\n",
    "\n",
    "(d) each number appears\n",
    "\n",
    "(e) the sum of the dice is 9 or more\n",
    "\n"
   ]
  },
  {
   "cell_type": "markdown",
   "metadata": {},
   "source": [
    "**20.** Use consecutive odds ratios to find the mode of the Poisson($\\mu$)\n",
    "distribution. Be careful about the case where $\\mu$ is an integer.\n",
    "\n"
   ]
  },
  {
   "cell_type": "markdown",
   "metadata": {},
   "source": [
    "**21.** A monkey types on a 26-letter keyboard that has lowercase letters only.\n",
    "Each letter is chosen independently and uniformly at random from the\n",
    "alphabet. If the monkey types n letters ( n $\\geq$ 11 ), what is the\n",
    "expected number of times the sequence “probability” appears?\n",
    "\n",
    "\n"
   ]
  },
  {
   "cell_type": "markdown",
   "metadata": {},
   "source": [
    "**22.** I see a Poisson (15) number of cars. Assume that each car has chance 0.2\n",
    "of being a hybrid and chance 0.1 of being electric, independently of all\n",
    "other cars. Find the chance that I see 3 hybrid cars, 2 electric cars,\n",
    "and 8 cars of other types.\n",
    "\n"
   ]
  },
  {
   "cell_type": "markdown",
   "metadata": {},
   "source": [
    "**23.** A box contains $n_R$ red balls, $n_B$ blue balls, and $n_G$ green balls.\n",
    "Balls are drawn one by one without replacement until all the red balls\n",
    "are drawn. Let D be the number of draws made. Calculate $E(D)$. Then,\n",
    "evaluate it (no calculators or computers) when $n_R=5, n_B=3, n_G=3$.\n",
    "\n"
   ]
  },
  {
   "cell_type": "markdown",
   "metadata": {},
   "source": [
    "**24.** Let $n$ and $N$ be positive integers, and suppose n draws made at random\n",
    "with replacement from {$1$,$2$,$3$, ... ,$N$}. Find the expectation of\n",
    "the minimum of the values drawn.\n",
    "\n"
   ]
  },
  {
   "cell_type": "markdown",
   "metadata": {},
   "source": [
    "**25.** Suppose you have $N$ balls where $N$ has the Poisson $(\\lambda)$\n",
    "distribution. Each ball is thrown into into one of $m$ bins chosen\n",
    "uniformly at random, independent of all other balls. Find\n",
    "$P(\\text{there is an empty bin})$.\n",
    "\n"
   ]
  },
  {
   "cell_type": "markdown",
   "metadata": {},
   "source": [
    "**26.** Let $X$ and $Y$ be independent random variables such that $X$ has the\n",
    "Poisson $(\\lambda)$ distribution and $Y$ has the Poisson $(\\mu)$\n",
    "distribution. For a fixed integer $n$, find the conditional distribution\n",
    "of $X$ given $X+Y=n$. Identify it as one of the famous ones and provide\n",
    "the parameters in terms of $n$, $\\lambda$, and $\\mu$.\n",
    "\n"
   ]
  },
  {
   "cell_type": "markdown",
   "metadata": {},
   "source": [
    "**27.** Suppose there are $m$ distinguishable pairs of socks, but a prankster\n",
    "chooses $d$ of these $2m$ socks at random, and pokes holes in them. Let\n",
    "$X$ be the number of undamaged pairs of socks. Find $E(X)$\n",
    "\n"
   ]
  },
  {
   "cell_type": "markdown",
   "metadata": {},
   "source": [
    "**28.** The distribution of a random variable $X$ involves an unknown parameter $\\theta$.\n",
    "\n",
    "- $P(X = 1 ) = \\theta$\n",
    "- $P(X = 2) = 2\\theta$\n",
    "- $P(X = 3) = 1 - 3\\theta$\n",
    "\n",
    "(a) Find $E(X)$.\n",
    "\n",
    "(b) Let $X_1, X_2, \\ldots, X_n$ be i.i.d. with the same distribution as $X$, and let $\\bar{X} = \\frac{1}{n}\\sum_{i}^n X_i$ be the sample average. Use $\\bar{X}$ to construct an unbiased estimator of $\\theta$.\n",
    "\n"
   ]
  },
  {
   "cell_type": "markdown",
   "metadata": {},
   "source": [
    "**29.** Use probability theory to explain why the math identity below is true\n",
    "for all $\\mu > 0$.\n",
    "\n",
    "$$\\sum_{k = 0}^\\infty \\sum_{j=k+1}^\\infty \\frac{\\mu^j}{j!} ~ = ~\n",
    "\\sum_{k = 1}^\\infty \\frac{\\mu^k}{(k-1)!}$$\n",
    "\n",
    "\n"
   ]
  },
  {
   "cell_type": "markdown",
   "metadata": {},
   "source": [
    "**30.** Survey respondents understandably don’t like to answer questions about\n",
    "sensitive topics such as illegal drug use. If data scientists want to\n",
    "estimate the proportion of illegal drug users in a population, they have\n",
    "to devise methods of getting the information they need while maintaining\n",
    "the privacy of the individual respondents.\n",
    "\n",
    "\\*Randomized response\\* schemes are often used in such situations. In\n",
    "one such scheme, each surveyed person is given a coin and asked to\n",
    "answer YES or NO after following these instructions out of sight of the\n",
    "surveyor:\n",
    "\n",
    "$\\bullet$ Toss the coin.\n",
    "\n",
    "$\\bullet$ If it lands heads, then truthfully answer, “Do you use illegal\n",
    "drugs?”\n",
    "\n",
    "$\\bullet$ If it lands tails, then toss it again and answer, “Did the\n",
    "second toss land heads?”\n",
    "\n",
    "This way each respondent answers YES or NO but the surveyor doesn’t know\n",
    "which question was answered. The data scientists then have to estimate\n",
    "the proportion of illegal drug users based on the overall proportion of\n",
    "YES answers, which includes the YES answers to the second question.\n",
    "\n",
    "Let the unknown proportion of illegal drug users in a large population\n",
    "be $p$, and suppose a random sample of size $n$ is surveyed using the\n",
    "scheme above. You can assume that the sampling is equivalent to drawing\n",
    "at random with replacement.\n",
    "\n",
    "\\(a) Let $X$ be the proportion of sampled people who answer YES. Find\n",
    "$E(X)$.\n",
    "\n",
    "\\(b) Use $X$ to construct an unbiased estimate of $p$.\n",
    "\n"
   ]
  },
  {
   "cell_type": "code",
   "execution_count": null,
   "metadata": {},
   "outputs": [],
   "source": []
  }
 ],
 "metadata": {
  "kernelspec": {
   "display_name": "Python 3",
   "language": "python",
   "name": "python3"
  },
  "language_info": {
   "codemirror_mode": {
    "name": "ipython",
    "version": 3
   },
   "file_extension": ".py",
   "mimetype": "text/x-python",
   "name": "python",
   "nbconvert_exporter": "python",
   "pygments_lexer": "ipython3",
   "version": "3.6.8"
  }
 },
 "nbformat": 4,
 "nbformat_minor": 2
}
