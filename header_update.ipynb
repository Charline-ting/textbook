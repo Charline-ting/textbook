{
 "cells": [
  {
   "cell_type": "markdown",
   "metadata": {},
   "source": [
    "This notebook is for updating the headers in the 140 textbook (specifically changing the color, but could be modified to do other things)"
   ]
  },
  {
   "cell_type": "code",
   "execution_count": 1,
   "metadata": {},
   "outputs": [],
   "source": [
    "import json\n",
    "import re\n",
    "from glob import glob"
   ]
  },
  {
   "cell_type": "code",
   "execution_count": 10,
   "metadata": {},
   "outputs": [],
   "source": [
    "notebooks = glob(\"./content/**/*.ipynb\", recursive=True)"
   ]
  },
  {
   "cell_type": "code",
   "execution_count": 11,
   "metadata": {},
   "outputs": [],
   "source": [
    "def swap_front(match):\n",
    "    return match.group(0) + '<span style=\\\"color: #000099\\\"> '\n",
    "\n",
    "def swap_back(match):\n",
    "    return ' </span>'+ match.group(0)\n",
    "\n",
    "def update_header(string):\n",
    "    # first add open span to front\n",
    "    with_front = re.sub(\"^#{2,} \", swap_front, string, count=1)\n",
    "    # then add close span to end\n",
    "    return re.sub(\" #{2,}$\", swap_back, with_front, count=1)"
   ]
  },
  {
   "cell_type": "code",
   "execution_count": 14,
   "metadata": {},
   "outputs": [],
   "source": [
    "def update_notebook_headers(nb_str):\n",
    "    with open(nb_str, \"r\") as f:\n",
    "        nb_json = json.load(f)\n",
    "    \n",
    "    for cell in nb_json[\"cells\"]:\n",
    "        if cell[\"cell_type\"] == \"markdown\":\n",
    "            cell[\"source\"][0] = update_header(cell[\"source\"][0])\n",
    "    \n",
    "    return nb_json"
   ]
  },
  {
   "cell_type": "code",
   "execution_count": 15,
   "metadata": {},
   "outputs": [
    {
     "data": {
      "text/plain": [
       "{'cells': [{'cell_type': 'code',\n",
       "   'execution_count': 1,\n",
       "   'metadata': {'collapsed': True, 'tags': ['remove_cell']},\n",
       "   'outputs': [],\n",
       "   'source': ['# HIDDEN\\n',\n",
       "    'from datascience import *\\n',\n",
       "    'from prob140 import *\\n',\n",
       "    '%matplotlib inline\\n',\n",
       "    'import matplotlib.pyplot as plt\\n',\n",
       "    \"plt.style.use('fivethirtyeight')\\n\",\n",
       "    'import numpy as np']},\n",
       "  {'cell_type': 'markdown', 'metadata': {}, 'source': ['# To the  Student #']},\n",
       "  {'cell_type': 'markdown',\n",
       "   'metadata': {},\n",
       "   'source': ['Data science is about making conclusions based on large amounts of data of diverse forms. But most data sets, no matter how large or complex, provide only incomplete information about the questions that interest us. When data scientists make conclusions, they often have to account for uncertainty.\\n',\n",
       "    '\\n',\n",
       "    'Probability theory studies the nature of randomness and gives us ways to quantify uncertainty. For example, it helps explain a phenomenon familiar to you from Data 8: that large random samples can hold rich stores of information about unknown quantities. Data scientists can use this to make valid conclusions about those unknowns, in spite of the uncertainties inherent in sampling.\\n',\n",
       "    '\\n',\n",
       "    'In a way this seems contradictory. The word \"random\", as it is commonly used, conjures up an image of haphazardness: all mixed up and higgledy piggledy. How can randomness help us make sense of anything?\\n',\n",
       "    '\\n',\n",
       "    'In the Fall 2015 inaugural offering of Data 8, this question was raised by a student who posted a request anonymously in the online discussion forum.\\n',\n",
       "    '\\n',\n",
       "    '> Would someone please explain why this is: Using **Randomness** in **Inference** allows us to understand how \"sure\" we may be of an answer.\\n',\n",
       "    '\\n',\n",
       "    'This insightful question received a prompt and equally insightful answer from another anonymous student.\\n',\n",
       "    '\\n',\n",
       "    '> When you use randomness many times and see a similar pattern, it becomes easier to make an inference about the data.\\n',\n",
       "    '\\n',\n",
       "    \"Patterns in randomness â€“ that's what this course is about. We will discover such patterns, generate them, use them, and most of all, enjoy them.\\n\",\n",
       "    '\\n',\n",
       "    'Welcome to Prob140.']},\n",
       "  {'cell_type': 'markdown', 'metadata': {}, 'source': ['*Berkeley, 2017*']}],\n",
       " 'metadata': {'anaconda-cloud': {},\n",
       "  'kernelspec': {'display_name': 'Python 3',\n",
       "   'language': 'python',\n",
       "   'name': 'python3'},\n",
       "  'language_info': {'codemirror_mode': {'name': 'ipython', 'version': 3},\n",
       "   'file_extension': '.py',\n",
       "   'mimetype': 'text/x-python',\n",
       "   'name': 'python',\n",
       "   'nbconvert_exporter': 'python',\n",
       "   'pygments_lexer': 'ipython3',\n",
       "   'version': '3.5.2'}},\n",
       " 'nbformat': 4,\n",
       " 'nbformat_minor': 0}"
      ]
     },
     "execution_count": 15,
     "metadata": {},
     "output_type": "execute_result"
    }
   ],
   "source": [
    "update_notebook_headers(notebooks[0])"
   ]
  },
  {
   "cell_type": "code",
   "execution_count": null,
   "metadata": {},
   "outputs": [],
   "source": []
  },
  {
   "cell_type": "code",
   "execution_count": null,
   "metadata": {},
   "outputs": [],
   "source": []
  },
  {
   "cell_type": "code",
   "execution_count": 6,
   "metadata": {},
   "outputs": [],
   "source": [
    "nb_str =  \"prob140/textbook/content/Chapter_01/01_Outcome_Space_and_Events.ipynb\""
   ]
  },
  {
   "cell_type": "code",
   "execution_count": 7,
   "metadata": {},
   "outputs": [
    {
     "name": "stdout",
     "output_type": "stream",
     "text": [
      "00_Fundamentals.ipynb\n",
      "01_Outcome_Space_and_Events.ipynb\n",
      "02_Equally_Likely_Outcomes.ipynb\n",
      "03_Collisions_in_Hashing.ipynb\n",
      "04_Birthday_Problem.ipynb\n",
      "05_An_Exponential_Approximation.ipynb\n"
     ]
    }
   ],
   "source": [
    "!ls prob140/textbook/content/Chapter_01"
   ]
  },
  {
   "cell_type": "code",
   "execution_count": 37,
   "metadata": {},
   "outputs": [],
   "source": [
    "with open(nb_str, \"r\") as f:\n",
    "    nb_json = json.load(f)"
   ]
  },
  {
   "cell_type": "code",
   "execution_count": 31,
   "metadata": {},
   "outputs": [],
   "source": [
    "test = '## Header ##'\n",
    "\n",
    "def swap_front(match):\n",
    "    return match.group(0) + '<span style=\\\"color: #000099\\\"> '\n",
    "\n",
    "def swap_back(match):\n",
    "    return ' </span>'+ match.group(0)"
   ]
  },
  {
   "cell_type": "code",
   "execution_count": 40,
   "metadata": {},
   "outputs": [],
   "source": [
    "def update_header(string):\n",
    "    # first add open span to front\n",
    "    with_front = re.sub(\"^#{2,} \", swap_front, string, count=1)\n",
    "    # then add close span to end\n",
    "    return re.sub(\" #{2,}$\", swap_back, with_front, count=1)"
   ]
  },
  {
   "cell_type": "code",
   "execution_count": 43,
   "metadata": {},
   "outputs": [
    {
     "name": "stdout",
     "output_type": "stream",
     "text": [
      "## Outcome Space and Events ##\n",
      "Any experiment involving randomness results in one of a number of possible outcomes. The outcome space is the collection of all such outcomes. \n",
      "\n",
      "### Example: Permutations ###\n",
      "\n",
      "**A note about \"types\":** The outcome $\\omega = cab$ is different from the event $F = \\\\{ cab \\\\}$. The outcome is an element of the outcome space, and the event is a subset of the outcome space. This subset happens to consist of just one outcome, but it's still a subset, not an element. You can think of this as analogous to different types in Python: `'cab'` is a string whereas `['cab']` is a list.\n",
      "\n",
      "When you shuffle cards for a game, the goal is to make the order of the cards \"random\". Preferably, you'd like any permutation to be just as likely as any other. So let's start working with equally likely outcomes.\n"
     ]
    }
   ],
   "source": [
    "for cell in nb_json[\"cells\"]:\n",
    "    if cell[\"cell_type\"] == \"markdown\":\n",
    "        cell[\"source\"][0] = update_header(cell[\"source\"][0])"
   ]
  },
  {
   "cell_type": "code",
   "execution_count": 46,
   "metadata": {},
   "outputs": [],
   "source": [
    "test_str = \"01_Outcome_Space.ipynb\"\n",
    "with open(test_str, \"w\") as f:\n",
    "    json.dump(nb_json, f)"
   ]
  },
  {
   "cell_type": "code",
   "execution_count": null,
   "metadata": {},
   "outputs": [],
   "source": []
  }
 ],
 "metadata": {
  "kernelspec": {
   "display_name": "Python 3",
   "language": "python",
   "name": "python3"
  },
  "language_info": {
   "codemirror_mode": {
    "name": "ipython",
    "version": 3
   },
   "file_extension": ".py",
   "mimetype": "text/x-python",
   "name": "python",
   "nbconvert_exporter": "python",
   "pygments_lexer": "ipython3",
   "version": "3.7.3"
  }
 },
 "nbformat": 4,
 "nbformat_minor": 2
}
